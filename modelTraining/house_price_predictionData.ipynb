{
  "nbformat": 4,
  "nbformat_minor": 0,
  "metadata": {
    "colab": {
      "name": "house_price_predictionData2(1).ipynb",
      "provenance": [],
      "collapsed_sections": [],
      "toc_visible": true,
      "history_visible": true,
      "include_colab_link": true
    },
    "kernelspec": {
      "name": "python3",
      "display_name": "Python 3"
    }
  },
  "cells": [
    {
      "cell_type": "markdown",
      "metadata": {
        "id": "view-in-github",
        "colab_type": "text"
      },
      "source": [
        "<a href=\"https://colab.research.google.com/github/junwin/housePriceJs/blob/main/modelTraining/house_price_predictionData.ipynb\" target=\"_parent\"><img src=\"https://colab.research.google.com/assets/colab-badge.svg\" alt=\"Open In Colab\"/></a>"
      ]
    },
    {
      "cell_type": "markdown",
      "metadata": {
        "id": "5fFIeRE5HrAE"
      },
      "source": [
        "#A  regression model for house prices using Keras and Tensorflow for use in Web pages\r\n",
        "\r\n",
        "TensorFlow provides a rich set of options to train and develop and test models then deploy them to different environments.\r\n",
        "\r\n",
        "The following code trains a simple regression model based on housing prices using Tensorflow and Keras. \r\n",
        "\r\n",
        "To make inferences in JavaScript, we will use TensorFlow JS to convert from Python to one that JavaScript can use.\r\n",
        "\r\n",
        "The approach is similar to the sample I produced using ML.Net from Microsoft: https://towardsdatascience.com/predicting-a-house-price-using-ml-net-6555ff3caeb\r\n",
        "\r\n",
        "We will run the code in Google's Colaboratory since this provides an excellent environment that allows access to GPU's, requires no configuration, and enables sharing.\r\n",
        "\r\n",
        "Be aware that there is a regional bias in the data since all the test data came from a few areas of Chicago's northern suburbs."
      ]
    },
    {
      "cell_type": "markdown",
      "metadata": {
        "id": "9QhrAUUTed7f"
      },
      "source": [
        "## Dependencies\r\n",
        "First, let's load any dependencies required."
      ]
    },
    {
      "cell_type": "code",
      "metadata": {
        "id": "M0thlCOV3qUc"
      },
      "source": [
        "#@title Dependancies\n",
        "import pandas as pd\n",
        "\n",
        "# TensorFlow is an open source machine learning library\n",
        "import tensorflow as tf\n",
        "\n",
        "# Keras is TensorFlow's high-level API for deep learning\n",
        "from tensorflow import keras\n",
        "from tensorflow.keras import regularizers\n",
        "# Numpy is a math library\n",
        "import numpy as np\n",
        "# Pandas is a data manipulation library \n",
        "import pandas as pd\n",
        "# Matplotlib is a graphing library\n",
        "import matplotlib.pyplot as plt\n",
        "# Math is Python's math library\n",
        "import math\n"
      ],
      "execution_count": 65,
      "outputs": []
    },
    {
      "cell_type": "markdown",
      "metadata": {
        "id": "FJLJ8PRGjdU7"
      },
      "source": [
        "## Let's load a dataset of house sales. \r\n",
        "We need to sanity test the raw data we loaded to ensure the columns are in the date range we expect. It is a good idea to check the data for any outliers; for example, in my first iteration, one home had 82 garage spots. Be aware that there is a regional bias in the data since all the test data came from a few areas of Chicago's northern suburbs.I will apply some crude normailzaton to the price and area columns.\r\n",
        "\r\n",
        "Notice tha the data has the property type already one hot encoded.\r\n"
      ]
    },
    {
      "cell_type": "code",
      "metadata": {
        "id": "WiK9OQRxjaXb",
        "colab": {
          "base_uri": "https://localhost:8080/",
          "height": 226
        },
        "outputId": "dc753352-23fe-4100-855b-dc3fe0d8e88a"
      },
      "source": [
        "url=\"https://junwin.github.io/data/cleanData.csv\"\r\n",
        "housePrices=pd.read_csv(url).sample(frac=1)\r\n",
        "\r\n",
        "\r\n",
        "prices = housePrices.pop('SoldPr') / 1000000\r\n",
        "housePrices['Area'] = housePrices['Area']/1000\r\n",
        "housePrices.head()\r\n"
      ],
      "execution_count": 66,
      "outputs": [
        {
          "output_type": "execute_result",
          "data": {
            "text/html": [
              "<div>\n",
              "<style scoped>\n",
              "    .dataframe tbody tr th:only-of-type {\n",
              "        vertical-align: middle;\n",
              "    }\n",
              "\n",
              "    .dataframe tbody tr th {\n",
              "        vertical-align: top;\n",
              "    }\n",
              "\n",
              "    .dataframe thead th {\n",
              "        text-align: right;\n",
              "    }\n",
              "</style>\n",
              "<table border=\"1\" class=\"dataframe\">\n",
              "  <thead>\n",
              "    <tr style=\"text-align: right;\">\n",
              "      <th></th>\n",
              "      <th>SFH</th>\n",
              "      <th>Condo</th>\n",
              "      <th>Duplex</th>\n",
              "      <th>Townhouse</th>\n",
              "      <th>New</th>\n",
              "      <th>Recent</th>\n",
              "      <th>20A</th>\n",
              "      <th>19A</th>\n",
              "      <th>19B</th>\n",
              "      <th>19C</th>\n",
              "      <th>19D</th>\n",
              "      <th>Pre1900</th>\n",
              "      <th>Area</th>\n",
              "      <th>Rooms</th>\n",
              "      <th>FullBaths</th>\n",
              "      <th>HalfBaths</th>\n",
              "      <th>BsmtBth</th>\n",
              "      <th>Beds</th>\n",
              "      <th>BsmtBeds</th>\n",
              "      <th>GarageSpaces</th>\n",
              "      <th>60002</th>\n",
              "      <th>60025</th>\n",
              "      <th>60026</th>\n",
              "      <th>60029</th>\n",
              "      <th>60035</th>\n",
              "      <th>60053</th>\n",
              "      <th>60062</th>\n",
              "      <th>60067</th>\n",
              "      <th>60076</th>\n",
              "      <th>60077</th>\n",
              "      <th>60091</th>\n",
              "      <th>60201</th>\n",
              "      <th>60202</th>\n",
              "      <th>60203</th>\n",
              "      <th>60625</th>\n",
              "      <th>60626</th>\n",
              "      <th>60638</th>\n",
              "      <th>63104</th>\n",
              "    </tr>\n",
              "  </thead>\n",
              "  <tbody>\n",
              "    <tr>\n",
              "      <th>3736</th>\n",
              "      <td>1</td>\n",
              "      <td>0</td>\n",
              "      <td>0</td>\n",
              "      <td>0</td>\n",
              "      <td>0</td>\n",
              "      <td>0</td>\n",
              "      <td>1</td>\n",
              "      <td>0</td>\n",
              "      <td>0</td>\n",
              "      <td>0</td>\n",
              "      <td>0</td>\n",
              "      <td>0</td>\n",
              "      <td>3.043</td>\n",
              "      <td>8</td>\n",
              "      <td>2</td>\n",
              "      <td>1</td>\n",
              "      <td>0</td>\n",
              "      <td>3.0</td>\n",
              "      <td>0</td>\n",
              "      <td>2.0</td>\n",
              "      <td>0</td>\n",
              "      <td>0</td>\n",
              "      <td>0</td>\n",
              "      <td>0</td>\n",
              "      <td>0</td>\n",
              "      <td>0</td>\n",
              "      <td>1</td>\n",
              "      <td>0</td>\n",
              "      <td>0</td>\n",
              "      <td>0</td>\n",
              "      <td>0</td>\n",
              "      <td>0</td>\n",
              "      <td>0</td>\n",
              "      <td>0</td>\n",
              "      <td>0</td>\n",
              "      <td>0</td>\n",
              "      <td>0</td>\n",
              "      <td>0</td>\n",
              "    </tr>\n",
              "    <tr>\n",
              "      <th>3399</th>\n",
              "      <td>1</td>\n",
              "      <td>0</td>\n",
              "      <td>0</td>\n",
              "      <td>0</td>\n",
              "      <td>0</td>\n",
              "      <td>0</td>\n",
              "      <td>0</td>\n",
              "      <td>1</td>\n",
              "      <td>0</td>\n",
              "      <td>0</td>\n",
              "      <td>0</td>\n",
              "      <td>0</td>\n",
              "      <td>1.637</td>\n",
              "      <td>8</td>\n",
              "      <td>2</td>\n",
              "      <td>0</td>\n",
              "      <td>0</td>\n",
              "      <td>4.0</td>\n",
              "      <td>0</td>\n",
              "      <td>1.1</td>\n",
              "      <td>0</td>\n",
              "      <td>0</td>\n",
              "      <td>0</td>\n",
              "      <td>0</td>\n",
              "      <td>0</td>\n",
              "      <td>0</td>\n",
              "      <td>0</td>\n",
              "      <td>0</td>\n",
              "      <td>0</td>\n",
              "      <td>0</td>\n",
              "      <td>1</td>\n",
              "      <td>0</td>\n",
              "      <td>0</td>\n",
              "      <td>0</td>\n",
              "      <td>0</td>\n",
              "      <td>0</td>\n",
              "      <td>0</td>\n",
              "      <td>0</td>\n",
              "    </tr>\n",
              "    <tr>\n",
              "      <th>3417</th>\n",
              "      <td>0</td>\n",
              "      <td>1</td>\n",
              "      <td>0</td>\n",
              "      <td>0</td>\n",
              "      <td>0</td>\n",
              "      <td>0</td>\n",
              "      <td>0</td>\n",
              "      <td>1</td>\n",
              "      <td>0</td>\n",
              "      <td>0</td>\n",
              "      <td>0</td>\n",
              "      <td>0</td>\n",
              "      <td>1.350</td>\n",
              "      <td>5</td>\n",
              "      <td>2</td>\n",
              "      <td>0</td>\n",
              "      <td>0</td>\n",
              "      <td>2.0</td>\n",
              "      <td>0</td>\n",
              "      <td>1.0</td>\n",
              "      <td>0</td>\n",
              "      <td>0</td>\n",
              "      <td>0</td>\n",
              "      <td>0</td>\n",
              "      <td>0</td>\n",
              "      <td>0</td>\n",
              "      <td>1</td>\n",
              "      <td>0</td>\n",
              "      <td>0</td>\n",
              "      <td>0</td>\n",
              "      <td>0</td>\n",
              "      <td>0</td>\n",
              "      <td>0</td>\n",
              "      <td>0</td>\n",
              "      <td>0</td>\n",
              "      <td>0</td>\n",
              "      <td>0</td>\n",
              "      <td>0</td>\n",
              "    </tr>\n",
              "    <tr>\n",
              "      <th>2000</th>\n",
              "      <td>1</td>\n",
              "      <td>0</td>\n",
              "      <td>0</td>\n",
              "      <td>0</td>\n",
              "      <td>0</td>\n",
              "      <td>0</td>\n",
              "      <td>0</td>\n",
              "      <td>1</td>\n",
              "      <td>0</td>\n",
              "      <td>0</td>\n",
              "      <td>0</td>\n",
              "      <td>0</td>\n",
              "      <td>1.321</td>\n",
              "      <td>7</td>\n",
              "      <td>1</td>\n",
              "      <td>1</td>\n",
              "      <td>0</td>\n",
              "      <td>3.0</td>\n",
              "      <td>0</td>\n",
              "      <td>2.0</td>\n",
              "      <td>0</td>\n",
              "      <td>0</td>\n",
              "      <td>0</td>\n",
              "      <td>0</td>\n",
              "      <td>0</td>\n",
              "      <td>1</td>\n",
              "      <td>0</td>\n",
              "      <td>0</td>\n",
              "      <td>0</td>\n",
              "      <td>0</td>\n",
              "      <td>0</td>\n",
              "      <td>0</td>\n",
              "      <td>0</td>\n",
              "      <td>0</td>\n",
              "      <td>0</td>\n",
              "      <td>0</td>\n",
              "      <td>0</td>\n",
              "      <td>0</td>\n",
              "    </tr>\n",
              "    <tr>\n",
              "      <th>5329</th>\n",
              "      <td>0</td>\n",
              "      <td>0</td>\n",
              "      <td>0</td>\n",
              "      <td>1</td>\n",
              "      <td>0</td>\n",
              "      <td>0</td>\n",
              "      <td>0</td>\n",
              "      <td>1</td>\n",
              "      <td>0</td>\n",
              "      <td>0</td>\n",
              "      <td>0</td>\n",
              "      <td>0</td>\n",
              "      <td>1.055</td>\n",
              "      <td>7</td>\n",
              "      <td>1</td>\n",
              "      <td>1</td>\n",
              "      <td>0</td>\n",
              "      <td>3.0</td>\n",
              "      <td>0</td>\n",
              "      <td>0.0</td>\n",
              "      <td>0</td>\n",
              "      <td>0</td>\n",
              "      <td>0</td>\n",
              "      <td>0</td>\n",
              "      <td>0</td>\n",
              "      <td>0</td>\n",
              "      <td>0</td>\n",
              "      <td>0</td>\n",
              "      <td>0</td>\n",
              "      <td>1</td>\n",
              "      <td>0</td>\n",
              "      <td>0</td>\n",
              "      <td>0</td>\n",
              "      <td>0</td>\n",
              "      <td>0</td>\n",
              "      <td>0</td>\n",
              "      <td>0</td>\n",
              "      <td>0</td>\n",
              "    </tr>\n",
              "  </tbody>\n",
              "</table>\n",
              "</div>"
            ],
            "text/plain": [
              "      SFH  Condo  Duplex  Townhouse  New  ...  60203  60625  60626  60638  63104\n",
              "3736    1      0       0          0    0  ...      0      0      0      0      0\n",
              "3399    1      0       0          0    0  ...      0      0      0      0      0\n",
              "3417    0      1       0          0    0  ...      0      0      0      0      0\n",
              "2000    1      0       0          0    0  ...      0      0      0      0      0\n",
              "5329    0      0       0          1    0  ...      0      0      0      0      0\n",
              "\n",
              "[5 rows x 38 columns]"
            ]
          },
          "metadata": {
            "tags": []
          },
          "execution_count": 66
        }
      ]
    },
    {
      "cell_type": "markdown",
      "metadata": {
        "id": "weFwetTpY8Xa"
      },
      "source": [
        "## Features\r\n",
        "Let's grab the features we want to model; the good thing is that its relatively easy to experiment with different features using pandas."
      ]
    },
    {
      "cell_type": "code",
      "metadata": {
        "id": "xu88J81I5ogN"
      },
      "source": [
        "SAMPLES = len(housePrices.index)\r\n",
        "featureCount = len(housePrices.columns)\r\n"
      ],
      "execution_count": 67,
      "outputs": []
    },
    {
      "cell_type": "markdown",
      "metadata": {
        "id": "rgsFnlxHj0eA"
      },
      "source": [
        "### Understanding the input data\r\n",
        "It is imperative to have a good overview of the model's data, so you need to plot some of the features to check any issues. Suppose you look at the first plot of the area against price:\r\n",
        "* there are many issues as the area increases. \r\n",
        "* most of the data is for smaller homes.\r\n",
        "\r\n",
        "I am not going to address these issues here, but the input merits some scrutiny.\r\n"
      ]
    },
    {
      "cell_type": "code",
      "metadata": {
        "colab": {
          "base_uri": "https://localhost:8080/",
          "height": 513
        },
        "id": "8w_2iKLPj3P5",
        "outputId": "a73a2c34-04c1-4957-cc37-e7e8e3ce2f31"
      },
      "source": [
        "# Plot our data to examine the relationship between some features and price\r\n",
        "plt.plot(housePrices['Area'], prices, 'b.')\r\n",
        "plt.show()\r\n",
        "plt.plot(housePrices['Rooms'], prices, 'b.')\r\n",
        "plt.show()\r\n"
      ],
      "execution_count": 68,
      "outputs": [
        {
          "output_type": "display_data",
          "data": {
            "image/png": "[encoded data removed]",
            "text/plain": [
              "<Figure size 432x288 with 1 Axes>"
            ]
          },
          "metadata": {
            "tags": [],
            "needs_background": "light"
          }
        },
        {
          "output_type": "display_data",
          "data": {
            "image/png": "[encoded data removed]",
            "text/plain": [
              "<Figure size 432x288 with 1 Axes>"
            ]
          },
          "metadata": {
            "tags": [],
            "needs_background": "light"
          }
        }
      ]
    },
    {
      "cell_type": "markdown",
      "metadata": {
        "id": "VHmvG8R3_IqS"
      },
      "source": [
        "## Separate data\r\n",
        "We need to split our data into two parts, the first 50% is for training, the rest are used for for validation. "
      ]
    },
    {
      "cell_type": "code",
      "metadata": {
        "id": "NzPQkZt6lk-v"
      },
      "source": [
        "TRAIN_SPLIT =  int(0.5 * SAMPLES)\r\n",
        "\r\n",
        "training_examples = housePrices.head(TRAIN_SPLIT)\r\n",
        "training_targets = prices.head(TRAIN_SPLIT)\r\n",
        "\r\n",
        "validation_examples = housePrices[TRAIN_SPLIT:-1]\r\n",
        "validation_targets = prices[TRAIN_SPLIT:-1]\r\n",
        "\r\n",
        "\r\n"
      ],
      "execution_count": 69,
      "outputs": []
    },
    {
      "cell_type": "markdown",
      "metadata": {
        "id": "mHZJb2JvFZtc"
      },
      "source": [
        "#Create TensorFlow datasets for training and validaton.\r\n",
        "Datasets are conveient and provide features like shuff;e and setting a bathc size when training.\r\n",
        "Here we will convert the raw data into Datasets.\r\n"
      ]
    },
    {
      "cell_type": "code",
      "metadata": {
        "id": "uqAD0vx7ga7Y"
      },
      "source": [
        "dataset = tf.data.Dataset.from_tensor_slices((training_examples.values, training_targets .values))\r\n",
        "train_dataset = dataset.shuffle(len(training_examples)).batch(10)\r\n",
        "\r\n",
        "dataset2 = tf.data.Dataset.from_tensor_slices((validation_examples.values, validation_targets .values))\r\n",
        "validation_dataset = dataset2.shuffle(len(validation_examples)).batch(1)\r\n",
        "\r\n"
      ],
      "execution_count": 70,
      "outputs": []
    },
    {
      "cell_type": "markdown",
      "metadata": {
        "id": "TpiXfWvcfX-U"
      },
      "source": [
        "## Training a model using Keras\r\n",
        "Now we have our data; we can use Keras (a high-level API to Tensorflow) to create a model.\r\n",
        " Keras makes it easy to experiment with different model architectures and visualize the results.\r\n",
        "\r\n",
        "We will begin with three layers and use the \"relu\" activation function. Notice that the final layer outputs to a single neuron since it's the predicted price and that we are using regularization to reduce overfitting.\r\n"
      ]
    },
    {
      "cell_type": "code",
      "metadata": {
        "id": "8_rlB7CVxLLK"
      },
      "source": [
        "model_1 = tf.keras.Sequential()\r\n",
        "\r\n",
        "model_1.add(keras.layers.Dense(42, activation='relu', kernel_regularizer=regularizers.l2(0.001)))\r\n",
        "model_1.add(keras.layers.Dense(4, activation='relu', kernel_regularizer=regularizers.l2(0.001)))\r\n",
        "model_1.add(keras.layers.Dense(1))\r\n",
        "\r\n",
        "# Compile the model using the standard 'adam' optimizer and the mean squared error or 'mse' loss function for regression.\r\n",
        "model_1.compile(optimizer='adam', loss='mse', metrics=['mae'])\r\n",
        "\r\n",
        "# Train the model on our training data while validating on our validation set\r\n",
        "history_1 = model_1.fit(train_dataset,  epochs=50, batch_size=128,\r\n",
        "                        validation_data=(validation_dataset))\r\n"
      ],
      "execution_count": null,
      "outputs": []
    },
    {
      "cell_type": "markdown",
      "metadata": {
        "id": "mZ3-oBaxg_Rr"
      },
      "source": [
        "### Understanding the results\r\n",
        "Having trained our model, we now need to check the training metrics to see how the model converges. First, we will check out training over all the epochs, then show a graph that excludes some of the initial epochs to focus on whats happening nearer the end.\r\n",
        "\r\n",
        "We can see a very rapid convergence, where the loss flattens out after about 10 epochs. On the second plot, it looks like a reasonable difference between the training and validation loss.\r\n"
      ]
    },
    {
      "cell_type": "code",
      "metadata": {
        "colab": {
          "base_uri": "https://localhost:8080/",
          "height": 573
        },
        "id": "eoTFmaiQyP5S",
        "outputId": "aca12ae3-a3c8-4b65-d972-f377c9a9f281"
      },
      "source": [
        "# Draw a graph of the loss, which is the distance between\r\n",
        "# the predicted and actual values during training and validation.\r\n",
        "train_loss = history_1.history['loss']\r\n",
        "val_loss = history_1.history['val_loss']\r\n",
        "epochs = range(1, len(train_loss) + 1)\r\n",
        "\r\n",
        "plt.plot(epochs, train_loss, 'g.', label='Training loss')\r\n",
        "plt.plot(epochs, val_loss, 'b', label='Validation loss')\r\n",
        "plt.title('Training and validation loss')\r\n",
        "plt.xlabel('Epochs')\r\n",
        "plt.ylabel('Loss')\r\n",
        "plt.legend()\r\n",
        "plt.show()\r\n",
        "\r\n",
        "# Exclude the first few epochs so the graph is easier to read\r\n",
        "SKIP = 5\r\n",
        "\r\n",
        "plt.plot(epochs[SKIP:], train_loss[SKIP:], 'g.', label='Training loss')\r\n",
        "plt.plot(epochs[SKIP:], val_loss[SKIP:], 'b.', label='Validation loss')\r\n",
        "plt.title('Training and validation loss')\r\n",
        "plt.xlabel('Epochs')\r\n",
        "plt.ylabel('Loss')\r\n",
        "plt.legend()\r\n",
        "plt.show()"
      ],
      "execution_count": 72,
      "outputs": [
        {
          "output_type": "display_data",
          "data": {
            "image/png": "[encoded data removed]",
            "text/plain": [
              "<Figure size 432x288 with 1 Axes>"
            ]
          },
          "metadata": {
            "tags": [],
            "needs_background": "light"
          }
        },
        {
          "output_type": "display_data",
          "data": {
            "image/png": "[encoded data removed]",
            "text/plain": [
              "<Figure size 432x288 with 1 Axes>"
            ]
          },
          "metadata": {
            "tags": [],
            "needs_background": "light"
          }
        }
      ]
    },
    {
      "cell_type": "markdown",
      "metadata": {
        "id": "fkn_lsriDlL0"
      },
      "source": [
        "## Saving a model for later use in a web page\r\n",
        "Now that we have a working model, we will save it.\r\n",
        "We will then use the model without further training.\r\n",
        "\r\n",
        "To use the model in a web page we can use a converter in the TensorFlowJs  import.\r\n",
        "\r\n",
        "This saves the model and the data so that they can be used from JavaScript for interences."
      ]
    },
    {
      "cell_type": "code",
      "metadata": {
        "id": "bgR_eEr6D1Iu"
      },
      "source": [
        "keras.models.save_model(model_1, 'housePriceModel2.hp5', True)\r\n",
        "! zip -r hpmodel.zip housePriceModel2.hp5 *.*\r\n",
        "\r\n",
        "! pip install tensorflowjs\r\n",
        "import tensorflowjs as tfjs\r\n",
        "\r\n",
        "tfjs.converters.save_keras_model(model_1, 'tensorFlowJs')\r\n",
        "! zip -r hpmodelJs.zip tensorFlowJs"
      ],
      "execution_count": null,
      "outputs": []
    },
    {
      "cell_type": "markdown",
      "metadata": {
        "id": "UKP7YtRQF0-w"
      },
      "source": [
        "# Loading a model\r\n",
        "Let's load the scalers, encoders and model and predict prices using the model we loaded; the indicated prices should be the same as above."
      ]
    },
    {
      "cell_type": "code",
      "metadata": {
        "id": "NNqbm9mhF57n"
      },
      "source": [
        "#! unzip  /content/hpmodel.zip\r\n",
        "\r\n",
        "\r\n",
        "model_2 = keras.models.load_model(\"housePriceModel2.hp5\")\r\n"
      ],
      "execution_count": 60,
      "outputs": []
    },
    {
      "cell_type": "code",
      "metadata": {
        "colab": {
          "base_uri": "https://localhost:8080/"
        },
        "id": "ssPnKKVeAA2t",
        "outputId": "df51ab48-d834-4edf-f331-45438284445e"
      },
      "source": [
        "singleFeature  = training_examples.values[0]\r\n",
        "print(singleFeature)\r\n",
        "singleFeature = singleFeature.reshape(1,38)\r\n",
        "model_1.predict(singleFeature)"
      ],
      "execution_count": 61,
      "outputs": [
        {
          "output_type": "stream",
          "text": [
            "[ 1.  0.  0.  0.  0.  0.  0.  1.  0.  0.  0.  0.  5. 13.  3.  1.  1.  4.\n",
            "  0.  2.  1.  0.  0.  0.  0.  0.  0.  0.  0.  0.  0.  0.  0.  0.  0.  0.\n",
            "  0.  0.]\n"
          ],
          "name": "stdout"
        },
        {
          "output_type": "execute_result",
          "data": {
            "text/plain": [
              "array([[0.4558676]], dtype=float32)"
            ]
          },
          "metadata": {
            "tags": []
          },
          "execution_count": 61
        }
      ]
    }
  ]
}