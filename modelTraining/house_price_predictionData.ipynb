{
  "nbformat": 4,
  "nbformat_minor": 0,
  "metadata": {
    "colab": {
      "name": "house_price_predictionData2(1).ipynb",
      "provenance": [],
      "collapsed_sections": [],
      "toc_visible": true,
      "history_visible": true
    },
    "kernelspec": {
      "name": "python3",
      "display_name": "Python 3"
    }
  },
  "cells": [
    {
      "cell_type": "markdown",
      "metadata": {
        "id": "view-in-github"
      },
      "source": [
        "<a href=\"https://colab.research.google.com/github/junwin/colab/blob/main/house_price_prediction.ipynb\" target=\"_parent\"><img src=\"https://colab.research.google.com/assets/colab-badge.svg\" alt=\"Open In Colab\"/></a>"
      ]
    },
    {
      "cell_type": "markdown",
      "metadata": {
        "id": "YSXPatebybXC"
      },
      "source": [
        "# Setting up a regression model for house prices using Keras and Tensorflow\r\n",
        "Using Tensorflow, Keras and Python in Jupyter Notebooks is a popular way to develop machine learning applications.\r\n",
        "\r\n",
        "To understand how the functionality fits in the machine learning workflow ( data preparation, training the model and evaluating the fit using test data sets) I decided to apply the tools to estimate the sale prices of houses.\r\n",
        "\r\n",
        "The approach is similar to the sample I produced using ML.Net from Microsoft: https://towardsdatascience.com/predicting-a-house-price-using-ml-net-6555ff3caeb\r\n",
        "\r\n",
        "We will run the code in Google's Colaboratory since this provides an excellent environment that allows access to GPU's, requires no configuration and enables sharing.\r\n",
        "\r\n",
        "We need to sanity test the raw data we loaded to ensure the columns are in the date range we expect.  It is a good idea to check the data for any outliers; for example, in my first iteration, one home had 82 garage spots.\r\n",
        "\r\n",
        "Be aware that there is a regional bias in the data since all the test data came from a few areas of Chicago's northern suburbs.\r\n"
      ]
    },
    {
      "cell_type": "markdown",
      "metadata": {
        "id": "9QhrAUUTed7f"
      },
      "source": [
        "## Dependencies\r\n",
        "First, let's load any dependencies required."
      ]
    },
    {
      "cell_type": "code",
      "metadata": {
        "id": "M0thlCOV3qUc"
      },
      "source": [
        "#@title Dependancies\n",
        "import pandas as pd\n",
        "\n",
        "# TensorFlow is an open source machine learning library\n",
        "import tensorflow as tf\n",
        "\n",
        "# Keras is TensorFlow's high-level API for deep learning\n",
        "from tensorflow import keras\n",
        "from tensorflow.keras import regularizers\n",
        "# Numpy is a math library\n",
        "import numpy as np\n",
        "# Pandas is a data manipulation library \n",
        "import pandas as pd\n",
        "# Matplotlib is a graphing library\n",
        "import matplotlib.pyplot as plt\n",
        "# Math is Python's math library\n",
        "import math\n",
        "from sklearn import preprocessing\n",
        "from sklearn.preprocessing import MinMaxScaler,StandardScaler"
      ],
      "execution_count": 1,
      "outputs": []
    },
    {
      "cell_type": "markdown",
      "metadata": {
        "id": "FJLJ8PRGjdU7"
      },
      "source": [
        "## Let's load a dataset of house sales. \r\n",
        "We need to sanity test the raw data we loaded to ensure the columns are in the date range we expect. It is a good idea to check the data for any outliers; for example, in my first iteration, one home had 82 garage spots. Be aware that there is a regional bias in the data since all the test data came from a few areas of Chicago's northern suburbs.\r\n"
      ]
    },
    {
      "cell_type": "code",
      "metadata": {
        "id": "WiK9OQRxjaXb",
        "colab": {
          "base_uri": "https://localhost:8080/",
          "height": 226
        },
        "outputId": "c1a344f6-32e0-410f-9880-8974c65eb4ae"
      },
      "source": [
        "url=\"https://junwin.github.io/data/cleanData.csv\"\r\n",
        "housePrices=pd.read_csv(url).sample(frac=1)\r\n",
        "# We will not process the ClosedDate column - so remove it\r\n",
        "#housePrices.pop('YearClosed')\r\n",
        "#housePrices.pop('MLS #')\r\n",
        "#housePrices.pop('YearBuilt')\r\n",
        "#housePrices.pop('Stat')\r\n",
        "prices = housePrices.pop('SoldPr') / 1000000\r\n",
        "housePrices['Area'] = housePrices['Area']/1000\r\n",
        "housePrices.head()\r\n",
        "#housePrices.dtypes"
      ],
      "execution_count": 3,
      "outputs": [
        {
          "output_type": "execute_result",
          "data": {
            "text/html": [
              "<div>\n",
              "<style scoped>\n",
              "    .dataframe tbody tr th:only-of-type {\n",
              "        vertical-align: middle;\n",
              "    }\n",
              "\n",
              "    .dataframe tbody tr th {\n",
              "        vertical-align: top;\n",
              "    }\n",
              "\n",
              "    .dataframe thead th {\n",
              "        text-align: right;\n",
              "    }\n",
              "</style>\n",
              "<table border=\"1\" class=\"dataframe\">\n",
              "  <thead>\n",
              "    <tr style=\"text-align: right;\">\n",
              "      <th></th>\n",
              "      <th>SFH</th>\n",
              "      <th>Condo</th>\n",
              "      <th>Duplex</th>\n",
              "      <th>Townhouse</th>\n",
              "      <th>New</th>\n",
              "      <th>Recent</th>\n",
              "      <th>20A</th>\n",
              "      <th>19A</th>\n",
              "      <th>19B</th>\n",
              "      <th>19C</th>\n",
              "      <th>19D</th>\n",
              "      <th>Pre1900</th>\n",
              "      <th>Area</th>\n",
              "      <th>Rooms</th>\n",
              "      <th>FullBaths</th>\n",
              "      <th>HalfBaths</th>\n",
              "      <th>BsmtBth</th>\n",
              "      <th>Beds</th>\n",
              "      <th>BsmtBeds</th>\n",
              "      <th>GarageSpaces</th>\n",
              "      <th>60002</th>\n",
              "      <th>60025</th>\n",
              "      <th>60026</th>\n",
              "      <th>60029</th>\n",
              "      <th>60035</th>\n",
              "      <th>60053</th>\n",
              "      <th>60062</th>\n",
              "      <th>60067</th>\n",
              "      <th>60076</th>\n",
              "      <th>60077</th>\n",
              "      <th>60091</th>\n",
              "      <th>60201</th>\n",
              "      <th>60202</th>\n",
              "      <th>60203</th>\n",
              "      <th>60625</th>\n",
              "      <th>60626</th>\n",
              "      <th>60638</th>\n",
              "      <th>63104</th>\n",
              "    </tr>\n",
              "  </thead>\n",
              "  <tbody>\n",
              "    <tr>\n",
              "      <th>5888</th>\n",
              "      <td>1</td>\n",
              "      <td>0</td>\n",
              "      <td>0</td>\n",
              "      <td>0</td>\n",
              "      <td>0</td>\n",
              "      <td>0</td>\n",
              "      <td>1</td>\n",
              "      <td>0</td>\n",
              "      <td>0</td>\n",
              "      <td>0</td>\n",
              "      <td>0</td>\n",
              "      <td>0</td>\n",
              "      <td>4.136</td>\n",
              "      <td>11</td>\n",
              "      <td>3</td>\n",
              "      <td>0</td>\n",
              "      <td>0</td>\n",
              "      <td>4.0</td>\n",
              "      <td>0</td>\n",
              "      <td>2.0</td>\n",
              "      <td>1</td>\n",
              "      <td>0</td>\n",
              "      <td>0</td>\n",
              "      <td>0</td>\n",
              "      <td>0</td>\n",
              "      <td>0</td>\n",
              "      <td>0</td>\n",
              "      <td>0</td>\n",
              "      <td>0</td>\n",
              "      <td>0</td>\n",
              "      <td>0</td>\n",
              "      <td>0</td>\n",
              "      <td>0</td>\n",
              "      <td>0</td>\n",
              "      <td>0</td>\n",
              "      <td>0</td>\n",
              "      <td>0</td>\n",
              "      <td>0</td>\n",
              "    </tr>\n",
              "    <tr>\n",
              "      <th>2107</th>\n",
              "      <td>1</td>\n",
              "      <td>0</td>\n",
              "      <td>0</td>\n",
              "      <td>0</td>\n",
              "      <td>0</td>\n",
              "      <td>0</td>\n",
              "      <td>0</td>\n",
              "      <td>1</td>\n",
              "      <td>0</td>\n",
              "      <td>0</td>\n",
              "      <td>0</td>\n",
              "      <td>0</td>\n",
              "      <td>2.008</td>\n",
              "      <td>9</td>\n",
              "      <td>2</td>\n",
              "      <td>0</td>\n",
              "      <td>0</td>\n",
              "      <td>4.0</td>\n",
              "      <td>0</td>\n",
              "      <td>0.0</td>\n",
              "      <td>0</td>\n",
              "      <td>0</td>\n",
              "      <td>0</td>\n",
              "      <td>0</td>\n",
              "      <td>0</td>\n",
              "      <td>0</td>\n",
              "      <td>0</td>\n",
              "      <td>0</td>\n",
              "      <td>1</td>\n",
              "      <td>0</td>\n",
              "      <td>0</td>\n",
              "      <td>0</td>\n",
              "      <td>0</td>\n",
              "      <td>0</td>\n",
              "      <td>0</td>\n",
              "      <td>0</td>\n",
              "      <td>0</td>\n",
              "      <td>0</td>\n",
              "    </tr>\n",
              "    <tr>\n",
              "      <th>8354</th>\n",
              "      <td>1</td>\n",
              "      <td>0</td>\n",
              "      <td>0</td>\n",
              "      <td>0</td>\n",
              "      <td>0</td>\n",
              "      <td>0</td>\n",
              "      <td>0</td>\n",
              "      <td>0</td>\n",
              "      <td>1</td>\n",
              "      <td>0</td>\n",
              "      <td>0</td>\n",
              "      <td>0</td>\n",
              "      <td>1.100</td>\n",
              "      <td>7</td>\n",
              "      <td>2</td>\n",
              "      <td>0</td>\n",
              "      <td>1</td>\n",
              "      <td>3.0</td>\n",
              "      <td>0</td>\n",
              "      <td>2.0</td>\n",
              "      <td>0</td>\n",
              "      <td>0</td>\n",
              "      <td>0</td>\n",
              "      <td>0</td>\n",
              "      <td>0</td>\n",
              "      <td>0</td>\n",
              "      <td>0</td>\n",
              "      <td>0</td>\n",
              "      <td>0</td>\n",
              "      <td>0</td>\n",
              "      <td>0</td>\n",
              "      <td>1</td>\n",
              "      <td>0</td>\n",
              "      <td>0</td>\n",
              "      <td>0</td>\n",
              "      <td>0</td>\n",
              "      <td>0</td>\n",
              "      <td>0</td>\n",
              "    </tr>\n",
              "    <tr>\n",
              "      <th>1654</th>\n",
              "      <td>0</td>\n",
              "      <td>1</td>\n",
              "      <td>0</td>\n",
              "      <td>0</td>\n",
              "      <td>0</td>\n",
              "      <td>0</td>\n",
              "      <td>0</td>\n",
              "      <td>1</td>\n",
              "      <td>0</td>\n",
              "      <td>0</td>\n",
              "      <td>0</td>\n",
              "      <td>0</td>\n",
              "      <td>1.350</td>\n",
              "      <td>5</td>\n",
              "      <td>2</td>\n",
              "      <td>0</td>\n",
              "      <td>0</td>\n",
              "      <td>2.0</td>\n",
              "      <td>0</td>\n",
              "      <td>0.0</td>\n",
              "      <td>0</td>\n",
              "      <td>0</td>\n",
              "      <td>0</td>\n",
              "      <td>0</td>\n",
              "      <td>0</td>\n",
              "      <td>0</td>\n",
              "      <td>0</td>\n",
              "      <td>0</td>\n",
              "      <td>0</td>\n",
              "      <td>1</td>\n",
              "      <td>0</td>\n",
              "      <td>0</td>\n",
              "      <td>0</td>\n",
              "      <td>0</td>\n",
              "      <td>0</td>\n",
              "      <td>0</td>\n",
              "      <td>0</td>\n",
              "      <td>0</td>\n",
              "    </tr>\n",
              "    <tr>\n",
              "      <th>5547</th>\n",
              "      <td>1</td>\n",
              "      <td>0</td>\n",
              "      <td>0</td>\n",
              "      <td>0</td>\n",
              "      <td>0</td>\n",
              "      <td>0</td>\n",
              "      <td>0</td>\n",
              "      <td>1</td>\n",
              "      <td>0</td>\n",
              "      <td>0</td>\n",
              "      <td>0</td>\n",
              "      <td>0</td>\n",
              "      <td>3.412</td>\n",
              "      <td>9</td>\n",
              "      <td>2</td>\n",
              "      <td>1</td>\n",
              "      <td>0</td>\n",
              "      <td>4.0</td>\n",
              "      <td>0</td>\n",
              "      <td>3.0</td>\n",
              "      <td>0</td>\n",
              "      <td>0</td>\n",
              "      <td>0</td>\n",
              "      <td>0</td>\n",
              "      <td>0</td>\n",
              "      <td>0</td>\n",
              "      <td>1</td>\n",
              "      <td>0</td>\n",
              "      <td>0</td>\n",
              "      <td>0</td>\n",
              "      <td>0</td>\n",
              "      <td>0</td>\n",
              "      <td>0</td>\n",
              "      <td>0</td>\n",
              "      <td>0</td>\n",
              "      <td>0</td>\n",
              "      <td>0</td>\n",
              "      <td>0</td>\n",
              "    </tr>\n",
              "  </tbody>\n",
              "</table>\n",
              "</div>"
            ],
            "text/plain": [
              "      SFH  Condo  Duplex  Townhouse  New  ...  60203  60625  60626  60638  63104\n",
              "5888    1      0       0          0    0  ...      0      0      0      0      0\n",
              "2107    1      0       0          0    0  ...      0      0      0      0      0\n",
              "8354    1      0       0          0    0  ...      0      0      0      0      0\n",
              "1654    0      1       0          0    0  ...      0      0      0      0      0\n",
              "5547    1      0       0          0    0  ...      0      0      0      0      0\n",
              "\n",
              "[5 rows x 38 columns]"
            ]
          },
          "metadata": {
            "tags": []
          },
          "execution_count": 3
        }
      ]
    },
    {
      "cell_type": "code",
      "metadata": {
        "id": "I3flBswUY2iA"
      },
      "source": [
        ""
      ],
      "execution_count": null,
      "outputs": []
    },
    {
      "cell_type": "markdown",
      "metadata": {
        "id": "weFwetTpY8Xa"
      },
      "source": [
        "## Features\r\n",
        "Let's grab the features we want to model; the good thing is that its relatively easy to experiment with different features using pandas."
      ]
    },
    {
      "cell_type": "code",
      "metadata": {
        "id": "xu88J81I5ogN"
      },
      "source": [
        "\r\n",
        "SAMPLES = len(housePrices.index)\r\n",
        "featureCount = len(housePrices.columns)\r\n",
        "#selectedFeatures.describe()\r\n"
      ],
      "execution_count": 5,
      "outputs": []
    },
    {
      "cell_type": "markdown",
      "metadata": {
        "id": "rgsFnlxHj0eA"
      },
      "source": [
        "### Understanding the input data\r\n",
        "It is imperative to have a good overview of the model's data, so you need to plot some of the features to check any issues. Suppose you look at the first plot of the area against price:\r\n",
        "* there are many issues as the area increases. \r\n",
        "* most of the data is for smaller homes.\r\n",
        "\r\n",
        "I am not going to address these issues here, but the input merits some scrutiny.\r\n"
      ]
    },
    {
      "cell_type": "code",
      "metadata": {
        "colab": {
          "base_uri": "https://localhost:8080/",
          "height": 513
        },
        "id": "8w_2iKLPj3P5",
        "outputId": "b8a4e656-7962-41ab-f70d-3ce708261e11"
      },
      "source": [
        "# Plot our data to examine the relationship between some features and price\r\n",
        "plt.plot(housePrices['Area'], prices, 'b.')\r\n",
        "plt.show()\r\n",
        "plt.plot(housePrices['Rooms'], prices, 'b.')\r\n",
        "plt.show()\r\n"
      ],
      "execution_count": 6,
      "outputs": [
        {
          "output_type": "display_data",
          "data": {
            "image/png": "[encoded data removed]",
            "text/plain": [
              "<Figure size 432x288 with 1 Axes>"
            ]
          },
          "metadata": {
            "tags": [],
            "needs_background": "light"
          }
        },
        {
          "output_type": "display_data",
          "data": {
            "image/png": "[encoded data removed]",
            "text/plain": [
              "<Figure size 432x288 with 1 Axes>"
            ]
          },
          "metadata": {
            "tags": [],
            "needs_background": "light"
          }
        }
      ]
    },
    {
      "cell_type": "markdown",
      "metadata": {
        "id": "VHmvG8R3_IqS"
      },
      "source": [
        "## Separate data\r\n",
        "We need to split our data into three parts, the first 60% is for training, 20% are set aside for validation and the last 20% for a final test."
      ]
    },
    {
      "cell_type": "code",
      "metadata": {
        "id": "NzPQkZt6lk-v",
        "colab": {
          "base_uri": "https://localhost:8080/"
        },
        "outputId": "184292d2-7c49-40e0-a7e1-a19984885d71"
      },
      "source": [
        "TRAIN_SPLIT =  int(0.6 * SAMPLES)\r\n",
        "TEST_SPLIT = int(0.2 * SAMPLES + TRAIN_SPLIT)\r\n",
        "\r\n",
        "training_examples = housePrices.head(TRAIN_SPLIT)\r\n",
        "training_targets = prices.head(TRAIN_SPLIT)\r\n",
        "\r\n",
        "validation_examples = housePrices[TRAIN_SPLIT:-1]\r\n",
        "validation_targets = prices[TRAIN_SPLIT:-1]\r\n",
        "\r\n",
        "#test_examples = selectedFeaturesScale.tail(int(0.2 * SAMPLES))\r\n",
        "#test_targets = pricesScale.tail(int(0.2 * SAMPLES))\r\n",
        "\r\n",
        "# Double-check that we've done the right thing.\r\n",
        "print(\"Training examples summary:\")\r\n",
        "training_examples.describe()\r\n",
        "print(\"Validation examples summary:\")\r\n",
        "validation_examples.describe()\r\n",
        "\r\n",
        "print(\"Training targets summary:\")\r\n",
        "training_targets.describe()\r\n",
        "print(\"Validation targets summary:\")\r\n",
        "validation_targets.describe()\r\n"
      ],
      "execution_count": 7,
      "outputs": [
        {
          "output_type": "stream",
          "text": [
            "Training examples summary:\n",
            "Validation examples summary:\n",
            "Training targets summary:\n",
            "Validation targets summary:\n"
          ],
          "name": "stdout"
        },
        {
          "output_type": "execute_result",
          "data": {
            "text/plain": [
              "count    3743.000000\n",
              "mean        0.485779\n",
              "std         0.335648\n",
              "min         0.026791\n",
              "25%         0.275264\n",
              "50%         0.383373\n",
              "75%         0.603328\n",
              "max         3.247200\n",
              "Name: SoldPr, dtype: float64"
            ]
          },
          "metadata": {
            "tags": []
          },
          "execution_count": 7
        }
      ]
    },
    {
      "cell_type": "code",
      "metadata": {
        "colab": {
          "base_uri": "https://localhost:8080/"
        },
        "id": "uqAD0vx7ga7Y",
        "outputId": "cd827b4f-1a88-4dcb-9cd3-7aeba606f713"
      },
      "source": [
        "dataset = tf.data.Dataset.from_tensor_slices((training_examples.values, training_targets .values))\r\n",
        "train_dataset = dataset.shuffle(len(training_examples)).batch(20)\r\n",
        "\r\n",
        "dataset2 = tf.data.Dataset.from_tensor_slices((validation_examples.values, validation_targets .values))\r\n",
        "validation_dataset = dataset.shuffle(len(validation_examples)).batch(1)\r\n",
        "\r\n",
        "model = tf.keras.Sequential([\r\n",
        "    tf.keras.layers.Dense(10, activation='relu'),\r\n",
        "    tf.keras.layers.Dense(10, activation='relu'),\r\n",
        "    tf.keras.layers.Dense(1)\r\n",
        "  ])\r\n",
        "\r\n",
        "model.compile(optimizer='adam', loss='mse', metrics=['mae'])\r\n",
        "  \r\n",
        "\r\n",
        "  \r\n",
        "model.fit(train_dataset, epochs=15)\r\n",
        "\r\n",
        "\r\n"
      ],
      "execution_count": 8,
      "outputs": [
        {
          "output_type": "stream",
          "text": [
            "Epoch 1/15\n",
            "281/281 [==============================] - 1s 2ms/step - loss: 0.1248 - mae: 0.2226\n",
            "Epoch 2/15\n",
            "281/281 [==============================] - 0s 2ms/step - loss: 0.0376 - mae: 0.1216\n",
            "Epoch 3/15\n",
            "281/281 [==============================] - 0s 2ms/step - loss: 0.0284 - mae: 0.1108\n",
            "Epoch 4/15\n",
            "281/281 [==============================] - 0s 2ms/step - loss: 0.0241 - mae: 0.1019\n",
            "Epoch 5/15\n",
            "281/281 [==============================] - 0s 2ms/step - loss: 0.0237 - mae: 0.0994\n",
            "Epoch 6/15\n",
            "281/281 [==============================] - 0s 2ms/step - loss: 0.0218 - mae: 0.0952\n",
            "Epoch 7/15\n",
            "281/281 [==============================] - 0s 1ms/step - loss: 0.0225 - mae: 0.0937\n",
            "Epoch 8/15\n",
            "281/281 [==============================] - 0s 2ms/step - loss: 0.0235 - mae: 0.0930\n",
            "Epoch 9/15\n",
            "281/281 [==============================] - 0s 2ms/step - loss: 0.0214 - mae: 0.0913\n",
            "Epoch 10/15\n",
            "281/281 [==============================] - 0s 2ms/step - loss: 0.0222 - mae: 0.0922\n",
            "Epoch 11/15\n",
            "281/281 [==============================] - 0s 2ms/step - loss: 0.0211 - mae: 0.0904\n",
            "Epoch 12/15\n",
            "281/281 [==============================] - 0s 2ms/step - loss: 0.0206 - mae: 0.0892\n",
            "Epoch 13/15\n",
            "281/281 [==============================] - 0s 1ms/step - loss: 0.0197 - mae: 0.0875\n",
            "Epoch 14/15\n",
            "281/281 [==============================] - 0s 2ms/step - loss: 0.0232 - mae: 0.0889\n",
            "Epoch 15/15\n",
            "281/281 [==============================] - 0s 2ms/step - loss: 0.0174 - mae: 0.0845\n"
          ],
          "name": "stdout"
        },
        {
          "output_type": "execute_result",
          "data": {
            "text/plain": [
              "<tensorflow.python.keras.callbacks.History at 0x7f6c35695d10>"
            ]
          },
          "metadata": {
            "tags": []
          },
          "execution_count": 8
        }
      ]
    },
    {
      "cell_type": "code",
      "metadata": {
        "colab": {
          "base_uri": "https://localhost:8080/",
          "height": 444
        },
        "id": "5c5NIe5Xy_BQ",
        "outputId": "a45b8b35-f17d-4346-8b4d-582b9026886d"
      },
      "source": [
        "training_examples\r\n",
        "#tf.convert_to_tensor(training_examples)"
      ],
      "execution_count": 9,
      "outputs": [
        {
          "output_type": "execute_result",
          "data": {
            "text/html": [
              "<div>\n",
              "<style scoped>\n",
              "    .dataframe tbody tr th:only-of-type {\n",
              "        vertical-align: middle;\n",
              "    }\n",
              "\n",
              "    .dataframe tbody tr th {\n",
              "        vertical-align: top;\n",
              "    }\n",
              "\n",
              "    .dataframe thead th {\n",
              "        text-align: right;\n",
              "    }\n",
              "</style>\n",
              "<table border=\"1\" class=\"dataframe\">\n",
              "  <thead>\n",
              "    <tr style=\"text-align: right;\">\n",
              "      <th></th>\n",
              "      <th>SFH</th>\n",
              "      <th>Condo</th>\n",
              "      <th>Duplex</th>\n",
              "      <th>Townhouse</th>\n",
              "      <th>New</th>\n",
              "      <th>Recent</th>\n",
              "      <th>20A</th>\n",
              "      <th>19A</th>\n",
              "      <th>19B</th>\n",
              "      <th>19C</th>\n",
              "      <th>19D</th>\n",
              "      <th>Pre1900</th>\n",
              "      <th>Area</th>\n",
              "      <th>Rooms</th>\n",
              "      <th>FullBaths</th>\n",
              "      <th>HalfBaths</th>\n",
              "      <th>BsmtBth</th>\n",
              "      <th>Beds</th>\n",
              "      <th>BsmtBeds</th>\n",
              "      <th>GarageSpaces</th>\n",
              "      <th>60002</th>\n",
              "      <th>60025</th>\n",
              "      <th>60026</th>\n",
              "      <th>60029</th>\n",
              "      <th>60035</th>\n",
              "      <th>60053</th>\n",
              "      <th>60062</th>\n",
              "      <th>60067</th>\n",
              "      <th>60076</th>\n",
              "      <th>60077</th>\n",
              "      <th>60091</th>\n",
              "      <th>60201</th>\n",
              "      <th>60202</th>\n",
              "      <th>60203</th>\n",
              "      <th>60625</th>\n",
              "      <th>60626</th>\n",
              "      <th>60638</th>\n",
              "      <th>63104</th>\n",
              "    </tr>\n",
              "  </thead>\n",
              "  <tbody>\n",
              "    <tr>\n",
              "      <th>5888</th>\n",
              "      <td>1</td>\n",
              "      <td>0</td>\n",
              "      <td>0</td>\n",
              "      <td>0</td>\n",
              "      <td>0</td>\n",
              "      <td>0</td>\n",
              "      <td>1</td>\n",
              "      <td>0</td>\n",
              "      <td>0</td>\n",
              "      <td>0</td>\n",
              "      <td>0</td>\n",
              "      <td>0</td>\n",
              "      <td>4.136</td>\n",
              "      <td>11</td>\n",
              "      <td>3</td>\n",
              "      <td>0</td>\n",
              "      <td>0</td>\n",
              "      <td>4.0</td>\n",
              "      <td>0</td>\n",
              "      <td>2.0</td>\n",
              "      <td>1</td>\n",
              "      <td>0</td>\n",
              "      <td>0</td>\n",
              "      <td>0</td>\n",
              "      <td>0</td>\n",
              "      <td>0</td>\n",
              "      <td>0</td>\n",
              "      <td>0</td>\n",
              "      <td>0</td>\n",
              "      <td>0</td>\n",
              "      <td>0</td>\n",
              "      <td>0</td>\n",
              "      <td>0</td>\n",
              "      <td>0</td>\n",
              "      <td>0</td>\n",
              "      <td>0</td>\n",
              "      <td>0</td>\n",
              "      <td>0</td>\n",
              "    </tr>\n",
              "    <tr>\n",
              "      <th>2107</th>\n",
              "      <td>1</td>\n",
              "      <td>0</td>\n",
              "      <td>0</td>\n",
              "      <td>0</td>\n",
              "      <td>0</td>\n",
              "      <td>0</td>\n",
              "      <td>0</td>\n",
              "      <td>1</td>\n",
              "      <td>0</td>\n",
              "      <td>0</td>\n",
              "      <td>0</td>\n",
              "      <td>0</td>\n",
              "      <td>2.008</td>\n",
              "      <td>9</td>\n",
              "      <td>2</td>\n",
              "      <td>0</td>\n",
              "      <td>0</td>\n",
              "      <td>4.0</td>\n",
              "      <td>0</td>\n",
              "      <td>0.0</td>\n",
              "      <td>0</td>\n",
              "      <td>0</td>\n",
              "      <td>0</td>\n",
              "      <td>0</td>\n",
              "      <td>0</td>\n",
              "      <td>0</td>\n",
              "      <td>0</td>\n",
              "      <td>0</td>\n",
              "      <td>1</td>\n",
              "      <td>0</td>\n",
              "      <td>0</td>\n",
              "      <td>0</td>\n",
              "      <td>0</td>\n",
              "      <td>0</td>\n",
              "      <td>0</td>\n",
              "      <td>0</td>\n",
              "      <td>0</td>\n",
              "      <td>0</td>\n",
              "    </tr>\n",
              "    <tr>\n",
              "      <th>8354</th>\n",
              "      <td>1</td>\n",
              "      <td>0</td>\n",
              "      <td>0</td>\n",
              "      <td>0</td>\n",
              "      <td>0</td>\n",
              "      <td>0</td>\n",
              "      <td>0</td>\n",
              "      <td>0</td>\n",
              "      <td>1</td>\n",
              "      <td>0</td>\n",
              "      <td>0</td>\n",
              "      <td>0</td>\n",
              "      <td>1.100</td>\n",
              "      <td>7</td>\n",
              "      <td>2</td>\n",
              "      <td>0</td>\n",
              "      <td>1</td>\n",
              "      <td>3.0</td>\n",
              "      <td>0</td>\n",
              "      <td>2.0</td>\n",
              "      <td>0</td>\n",
              "      <td>0</td>\n",
              "      <td>0</td>\n",
              "      <td>0</td>\n",
              "      <td>0</td>\n",
              "      <td>0</td>\n",
              "      <td>0</td>\n",
              "      <td>0</td>\n",
              "      <td>0</td>\n",
              "      <td>0</td>\n",
              "      <td>0</td>\n",
              "      <td>1</td>\n",
              "      <td>0</td>\n",
              "      <td>0</td>\n",
              "      <td>0</td>\n",
              "      <td>0</td>\n",
              "      <td>0</td>\n",
              "      <td>0</td>\n",
              "    </tr>\n",
              "    <tr>\n",
              "      <th>1654</th>\n",
              "      <td>0</td>\n",
              "      <td>1</td>\n",
              "      <td>0</td>\n",
              "      <td>0</td>\n",
              "      <td>0</td>\n",
              "      <td>0</td>\n",
              "      <td>0</td>\n",
              "      <td>1</td>\n",
              "      <td>0</td>\n",
              "      <td>0</td>\n",
              "      <td>0</td>\n",
              "      <td>0</td>\n",
              "      <td>1.350</td>\n",
              "      <td>5</td>\n",
              "      <td>2</td>\n",
              "      <td>0</td>\n",
              "      <td>0</td>\n",
              "      <td>2.0</td>\n",
              "      <td>0</td>\n",
              "      <td>0.0</td>\n",
              "      <td>0</td>\n",
              "      <td>0</td>\n",
              "      <td>0</td>\n",
              "      <td>0</td>\n",
              "      <td>0</td>\n",
              "      <td>0</td>\n",
              "      <td>0</td>\n",
              "      <td>0</td>\n",
              "      <td>0</td>\n",
              "      <td>1</td>\n",
              "      <td>0</td>\n",
              "      <td>0</td>\n",
              "      <td>0</td>\n",
              "      <td>0</td>\n",
              "      <td>0</td>\n",
              "      <td>0</td>\n",
              "      <td>0</td>\n",
              "      <td>0</td>\n",
              "    </tr>\n",
              "    <tr>\n",
              "      <th>5547</th>\n",
              "      <td>1</td>\n",
              "      <td>0</td>\n",
              "      <td>0</td>\n",
              "      <td>0</td>\n",
              "      <td>0</td>\n",
              "      <td>0</td>\n",
              "      <td>0</td>\n",
              "      <td>1</td>\n",
              "      <td>0</td>\n",
              "      <td>0</td>\n",
              "      <td>0</td>\n",
              "      <td>0</td>\n",
              "      <td>3.412</td>\n",
              "      <td>9</td>\n",
              "      <td>2</td>\n",
              "      <td>1</td>\n",
              "      <td>0</td>\n",
              "      <td>4.0</td>\n",
              "      <td>0</td>\n",
              "      <td>3.0</td>\n",
              "      <td>0</td>\n",
              "      <td>0</td>\n",
              "      <td>0</td>\n",
              "      <td>0</td>\n",
              "      <td>0</td>\n",
              "      <td>0</td>\n",
              "      <td>1</td>\n",
              "      <td>0</td>\n",
              "      <td>0</td>\n",
              "      <td>0</td>\n",
              "      <td>0</td>\n",
              "      <td>0</td>\n",
              "      <td>0</td>\n",
              "      <td>0</td>\n",
              "      <td>0</td>\n",
              "      <td>0</td>\n",
              "      <td>0</td>\n",
              "      <td>0</td>\n",
              "    </tr>\n",
              "    <tr>\n",
              "      <th>...</th>\n",
              "      <td>...</td>\n",
              "      <td>...</td>\n",
              "      <td>...</td>\n",
              "      <td>...</td>\n",
              "      <td>...</td>\n",
              "      <td>...</td>\n",
              "      <td>...</td>\n",
              "      <td>...</td>\n",
              "      <td>...</td>\n",
              "      <td>...</td>\n",
              "      <td>...</td>\n",
              "      <td>...</td>\n",
              "      <td>...</td>\n",
              "      <td>...</td>\n",
              "      <td>...</td>\n",
              "      <td>...</td>\n",
              "      <td>...</td>\n",
              "      <td>...</td>\n",
              "      <td>...</td>\n",
              "      <td>...</td>\n",
              "      <td>...</td>\n",
              "      <td>...</td>\n",
              "      <td>...</td>\n",
              "      <td>...</td>\n",
              "      <td>...</td>\n",
              "      <td>...</td>\n",
              "      <td>...</td>\n",
              "      <td>...</td>\n",
              "      <td>...</td>\n",
              "      <td>...</td>\n",
              "      <td>...</td>\n",
              "      <td>...</td>\n",
              "      <td>...</td>\n",
              "      <td>...</td>\n",
              "      <td>...</td>\n",
              "      <td>...</td>\n",
              "      <td>...</td>\n",
              "      <td>...</td>\n",
              "    </tr>\n",
              "    <tr>\n",
              "      <th>3890</th>\n",
              "      <td>1</td>\n",
              "      <td>0</td>\n",
              "      <td>0</td>\n",
              "      <td>0</td>\n",
              "      <td>1</td>\n",
              "      <td>0</td>\n",
              "      <td>0</td>\n",
              "      <td>0</td>\n",
              "      <td>0</td>\n",
              "      <td>0</td>\n",
              "      <td>0</td>\n",
              "      <td>0</td>\n",
              "      <td>1.601</td>\n",
              "      <td>5</td>\n",
              "      <td>2</td>\n",
              "      <td>0</td>\n",
              "      <td>0</td>\n",
              "      <td>3.0</td>\n",
              "      <td>0</td>\n",
              "      <td>2.0</td>\n",
              "      <td>1</td>\n",
              "      <td>0</td>\n",
              "      <td>0</td>\n",
              "      <td>0</td>\n",
              "      <td>0</td>\n",
              "      <td>0</td>\n",
              "      <td>0</td>\n",
              "      <td>0</td>\n",
              "      <td>0</td>\n",
              "      <td>0</td>\n",
              "      <td>0</td>\n",
              "      <td>0</td>\n",
              "      <td>0</td>\n",
              "      <td>0</td>\n",
              "      <td>0</td>\n",
              "      <td>0</td>\n",
              "      <td>0</td>\n",
              "      <td>0</td>\n",
              "    </tr>\n",
              "    <tr>\n",
              "      <th>3071</th>\n",
              "      <td>0</td>\n",
              "      <td>1</td>\n",
              "      <td>0</td>\n",
              "      <td>0</td>\n",
              "      <td>0</td>\n",
              "      <td>0</td>\n",
              "      <td>1</td>\n",
              "      <td>0</td>\n",
              "      <td>0</td>\n",
              "      <td>0</td>\n",
              "      <td>0</td>\n",
              "      <td>0</td>\n",
              "      <td>1.425</td>\n",
              "      <td>6</td>\n",
              "      <td>2</td>\n",
              "      <td>0</td>\n",
              "      <td>0</td>\n",
              "      <td>2.0</td>\n",
              "      <td>0</td>\n",
              "      <td>2.0</td>\n",
              "      <td>0</td>\n",
              "      <td>0</td>\n",
              "      <td>0</td>\n",
              "      <td>0</td>\n",
              "      <td>0</td>\n",
              "      <td>0</td>\n",
              "      <td>0</td>\n",
              "      <td>0</td>\n",
              "      <td>0</td>\n",
              "      <td>0</td>\n",
              "      <td>0</td>\n",
              "      <td>0</td>\n",
              "      <td>1</td>\n",
              "      <td>0</td>\n",
              "      <td>0</td>\n",
              "      <td>0</td>\n",
              "      <td>0</td>\n",
              "      <td>0</td>\n",
              "    </tr>\n",
              "    <tr>\n",
              "      <th>2987</th>\n",
              "      <td>0</td>\n",
              "      <td>1</td>\n",
              "      <td>0</td>\n",
              "      <td>0</td>\n",
              "      <td>0</td>\n",
              "      <td>0</td>\n",
              "      <td>1</td>\n",
              "      <td>0</td>\n",
              "      <td>0</td>\n",
              "      <td>0</td>\n",
              "      <td>0</td>\n",
              "      <td>0</td>\n",
              "      <td>1.054</td>\n",
              "      <td>6</td>\n",
              "      <td>2</td>\n",
              "      <td>0</td>\n",
              "      <td>0</td>\n",
              "      <td>2.0</td>\n",
              "      <td>0</td>\n",
              "      <td>1.0</td>\n",
              "      <td>0</td>\n",
              "      <td>0</td>\n",
              "      <td>0</td>\n",
              "      <td>0</td>\n",
              "      <td>0</td>\n",
              "      <td>0</td>\n",
              "      <td>0</td>\n",
              "      <td>0</td>\n",
              "      <td>0</td>\n",
              "      <td>0</td>\n",
              "      <td>0</td>\n",
              "      <td>1</td>\n",
              "      <td>0</td>\n",
              "      <td>0</td>\n",
              "      <td>0</td>\n",
              "      <td>0</td>\n",
              "      <td>0</td>\n",
              "      <td>0</td>\n",
              "    </tr>\n",
              "    <tr>\n",
              "      <th>4431</th>\n",
              "      <td>0</td>\n",
              "      <td>0</td>\n",
              "      <td>0</td>\n",
              "      <td>1</td>\n",
              "      <td>0</td>\n",
              "      <td>0</td>\n",
              "      <td>0</td>\n",
              "      <td>1</td>\n",
              "      <td>0</td>\n",
              "      <td>0</td>\n",
              "      <td>0</td>\n",
              "      <td>0</td>\n",
              "      <td>1.320</td>\n",
              "      <td>5</td>\n",
              "      <td>1</td>\n",
              "      <td>1</td>\n",
              "      <td>0</td>\n",
              "      <td>2.0</td>\n",
              "      <td>0</td>\n",
              "      <td>1.0</td>\n",
              "      <td>0</td>\n",
              "      <td>1</td>\n",
              "      <td>0</td>\n",
              "      <td>0</td>\n",
              "      <td>0</td>\n",
              "      <td>0</td>\n",
              "      <td>0</td>\n",
              "      <td>0</td>\n",
              "      <td>0</td>\n",
              "      <td>0</td>\n",
              "      <td>0</td>\n",
              "      <td>0</td>\n",
              "      <td>0</td>\n",
              "      <td>0</td>\n",
              "      <td>0</td>\n",
              "      <td>0</td>\n",
              "      <td>0</td>\n",
              "      <td>0</td>\n",
              "    </tr>\n",
              "    <tr>\n",
              "      <th>2659</th>\n",
              "      <td>1</td>\n",
              "      <td>0</td>\n",
              "      <td>0</td>\n",
              "      <td>0</td>\n",
              "      <td>0</td>\n",
              "      <td>0</td>\n",
              "      <td>0</td>\n",
              "      <td>0</td>\n",
              "      <td>1</td>\n",
              "      <td>0</td>\n",
              "      <td>0</td>\n",
              "      <td>0</td>\n",
              "      <td>3.093</td>\n",
              "      <td>10</td>\n",
              "      <td>4</td>\n",
              "      <td>1</td>\n",
              "      <td>0</td>\n",
              "      <td>5.0</td>\n",
              "      <td>0</td>\n",
              "      <td>2.0</td>\n",
              "      <td>0</td>\n",
              "      <td>0</td>\n",
              "      <td>0</td>\n",
              "      <td>0</td>\n",
              "      <td>0</td>\n",
              "      <td>0</td>\n",
              "      <td>0</td>\n",
              "      <td>0</td>\n",
              "      <td>0</td>\n",
              "      <td>0</td>\n",
              "      <td>0</td>\n",
              "      <td>1</td>\n",
              "      <td>0</td>\n",
              "      <td>0</td>\n",
              "      <td>0</td>\n",
              "      <td>0</td>\n",
              "      <td>0</td>\n",
              "      <td>0</td>\n",
              "    </tr>\n",
              "  </tbody>\n",
              "</table>\n",
              "<p>5614 rows × 38 columns</p>\n",
              "</div>"
            ],
            "text/plain": [
              "      SFH  Condo  Duplex  Townhouse  New  ...  60203  60625  60626  60638  63104\n",
              "5888    1      0       0          0    0  ...      0      0      0      0      0\n",
              "2107    1      0       0          0    0  ...      0      0      0      0      0\n",
              "8354    1      0       0          0    0  ...      0      0      0      0      0\n",
              "1654    0      1       0          0    0  ...      0      0      0      0      0\n",
              "5547    1      0       0          0    0  ...      0      0      0      0      0\n",
              "...   ...    ...     ...        ...  ...  ...    ...    ...    ...    ...    ...\n",
              "3890    1      0       0          0    1  ...      0      0      0      0      0\n",
              "3071    0      1       0          0    0  ...      0      0      0      0      0\n",
              "2987    0      1       0          0    0  ...      0      0      0      0      0\n",
              "4431    0      0       0          1    0  ...      0      0      0      0      0\n",
              "2659    1      0       0          0    0  ...      0      0      0      0      0\n",
              "\n",
              "[5614 rows x 38 columns]"
            ]
          },
          "metadata": {
            "tags": []
          },
          "execution_count": 9
        }
      ]
    },
    {
      "cell_type": "markdown",
      "metadata": {
        "id": "TpiXfWvcfX-U"
      },
      "source": [
        "## Training a model using Keras\r\n",
        "Now we have our data we can use Keras (a high-level API to Tensorflow) to create a model.\r\n",
        " Keras makes it easy to experiment with different model architectures and visualize the results.\r\n",
        "\r\n",
        "We will begin with three layers and use the \"relu\" activation function. Notice that the first layer uses the featureCount to define its input shape, and the final layer outputs to a single neuron since its the predicted price.\r\n",
        "\r\n",
        "If you think the model is overfitting you can easily add regularization to manage the problem - these are commented out below.\r\n"
      ]
    },
    {
      "cell_type": "code",
      "metadata": {
        "id": "8_rlB7CVxLLK"
      },
      "source": [
        "model_1 = tf.keras.Sequential()\r\n",
        "\r\n",
        "model_1.add(keras.layers.Dense(42, activation='relu'))\r\n",
        "#model_1.add(keras.layers.Dense(32, activation='relu', kernel_regularizer=regularizers.l2(0.001), input_shape=(featureCount,)))\r\n",
        "model_1.add(keras.layers.Dense(16, activation='relu'))\r\n",
        "#model_1.add(keras.layers.Dense(16, activation='relu', kernel_regularizer=regularizers.l2(0.001)))\r\n",
        "model_1.add(keras.layers.Dense(4, activation='relu'))\r\n",
        "#model_1.add(keras.layers.Dense(16, activation='relu', kernel_regularizer=regularizers.l2(0.001)))\r\n",
        "model_1.add(keras.layers.Dense(1))\r\n",
        "\r\n",
        "# Compile the model using the standard 'adam' optimizer and the mean squared error or 'mse' loss function for regression.\r\n",
        "model_1.compile(optimizer='adam', loss='mse', metrics=['mae'])\r\n",
        "\r\n",
        "#model_1.summary()"
      ],
      "execution_count": 10,
      "outputs": []
    },
    {
      "cell_type": "markdown",
      "metadata": {
        "id": "WHYrcqFigz80"
      },
      "source": [
        "### Having created the model, we will now train it."
      ]
    },
    {
      "cell_type": "code",
      "metadata": {
        "id": "mPWR0pUhxgpy",
        "colab": {
          "base_uri": "https://localhost:8080/"
        },
        "outputId": "aeea2b00-110c-4a66-f5b5-c7b5bb26370d"
      },
      "source": [
        "# Train the model on our training data while validating on our validation set\r\n",
        "history_1 = model_1.fit(train_dataset,  epochs=25, batch_size=50,\r\n",
        "                        validation_data=(validation_dataset))"
      ],
      "execution_count": 11,
      "outputs": [
        {
          "output_type": "stream",
          "text": [
            "Epoch 1/25\n",
            "281/281 [==============================] - 5s 15ms/step - loss: 0.0419 - mae: 0.1333 - val_loss: 0.0232 - val_mae: 0.0972\n",
            "Epoch 2/25\n",
            "281/281 [==============================] - 4s 15ms/step - loss: 0.0237 - mae: 0.0964 - val_loss: 0.0252 - val_mae: 0.1055\n",
            "Epoch 3/25\n",
            "281/281 [==============================] - 4s 15ms/step - loss: 0.0259 - mae: 0.0989 - val_loss: 0.0202 - val_mae: 0.0846\n",
            "Epoch 4/25\n",
            "281/281 [==============================] - 4s 15ms/step - loss: 0.0207 - mae: 0.0879 - val_loss: 0.0197 - val_mae: 0.0863\n",
            "Epoch 5/25\n",
            "281/281 [==============================] - 4s 15ms/step - loss: 0.0184 - mae: 0.0846 - val_loss: 0.0201 - val_mae: 0.0895\n",
            "Epoch 6/25\n",
            "281/281 [==============================] - 4s 15ms/step - loss: 0.0196 - mae: 0.0875 - val_loss: 0.0193 - val_mae: 0.0856\n",
            "Epoch 7/25\n",
            "281/281 [==============================] - 4s 15ms/step - loss: 0.0199 - mae: 0.0853 - val_loss: 0.0223 - val_mae: 0.0998\n",
            "Epoch 8/25\n",
            "281/281 [==============================] - 4s 15ms/step - loss: 0.0242 - mae: 0.0906 - val_loss: 0.0185 - val_mae: 0.0802\n",
            "Epoch 9/25\n",
            "281/281 [==============================] - 4s 15ms/step - loss: 0.0184 - mae: 0.0819 - val_loss: 0.0202 - val_mae: 0.0921\n",
            "Epoch 10/25\n",
            "281/281 [==============================] - 4s 15ms/step - loss: 0.0198 - mae: 0.0857 - val_loss: 0.0175 - val_mae: 0.0787\n",
            "Epoch 11/25\n",
            "281/281 [==============================] - 4s 15ms/step - loss: 0.0190 - mae: 0.0829 - val_loss: 0.0174 - val_mae: 0.0805\n",
            "Epoch 12/25\n",
            "281/281 [==============================] - 4s 14ms/step - loss: 0.0182 - mae: 0.0841 - val_loss: 0.0175 - val_mae: 0.0805\n",
            "Epoch 13/25\n",
            "281/281 [==============================] - 4s 14ms/step - loss: 0.0172 - mae: 0.0804 - val_loss: 0.0173 - val_mae: 0.0811\n",
            "Epoch 14/25\n",
            "281/281 [==============================] - 4s 14ms/step - loss: 0.0170 - mae: 0.0821 - val_loss: 0.0171 - val_mae: 0.0818\n",
            "Epoch 15/25\n",
            "281/281 [==============================] - 4s 14ms/step - loss: 0.0160 - mae: 0.0793 - val_loss: 0.0186 - val_mae: 0.0807\n",
            "Epoch 16/25\n",
            "281/281 [==============================] - 4s 14ms/step - loss: 0.0260 - mae: 0.0842 - val_loss: 0.0165 - val_mae: 0.0766\n",
            "Epoch 17/25\n",
            "281/281 [==============================] - 4s 14ms/step - loss: 0.0204 - mae: 0.0827 - val_loss: 0.0166 - val_mae: 0.0773\n",
            "Epoch 18/25\n",
            "281/281 [==============================] - 4s 14ms/step - loss: 0.0164 - mae: 0.0800 - val_loss: 0.0162 - val_mae: 0.0764\n",
            "Epoch 19/25\n",
            "281/281 [==============================] - 4s 14ms/step - loss: 0.0155 - mae: 0.0785 - val_loss: 0.0166 - val_mae: 0.0765\n",
            "Epoch 20/25\n",
            "281/281 [==============================] - 4s 15ms/step - loss: 0.0178 - mae: 0.0802 - val_loss: 0.0163 - val_mae: 0.0786\n",
            "Epoch 21/25\n",
            "281/281 [==============================] - 4s 15ms/step - loss: 0.0183 - mae: 0.0791 - val_loss: 0.0165 - val_mae: 0.0768\n",
            "Epoch 22/25\n",
            "281/281 [==============================] - 4s 15ms/step - loss: 0.0147 - mae: 0.0768 - val_loss: 0.0191 - val_mae: 0.0905\n",
            "Epoch 23/25\n",
            "281/281 [==============================] - 4s 14ms/step - loss: 0.0168 - mae: 0.0808 - val_loss: 0.0167 - val_mae: 0.0851\n",
            "Epoch 24/25\n",
            "281/281 [==============================] - 5s 16ms/step - loss: 0.0158 - mae: 0.0798 - val_loss: 0.0160 - val_mae: 0.0778\n",
            "Epoch 25/25\n",
            "281/281 [==============================] - 5s 16ms/step - loss: 0.0148 - mae: 0.0763 - val_loss: 0.0166 - val_mae: 0.0828\n"
          ],
          "name": "stdout"
        }
      ]
    },
    {
      "cell_type": "markdown",
      "metadata": {
        "id": "mZ3-oBaxg_Rr"
      },
      "source": [
        "### Understanding the results\r\n",
        "Having trained our model, we now need to check the training metrics to see how the model converges. First, we will check out training over all the epochs, then show a graph that excludes some of the initial epochs to focus on whats happening nearer the end.\r\n",
        "\r\n",
        "We can see a very rapid convergence, where the loss flattens out after about 50 epochs. On the second plot, it looks like a reasonable difference between the training and validation loss.\r\n"
      ]
    },
    {
      "cell_type": "code",
      "metadata": {
        "colab": {
          "base_uri": "https://localhost:8080/",
          "height": 573
        },
        "id": "eoTFmaiQyP5S",
        "outputId": "c07c52c3-9901-4d1d-a063-6812577fe19d"
      },
      "source": [
        "# Draw a graph of the loss, which is the distance between\r\n",
        "# the predicted and actual values during training and validation.\r\n",
        "train_loss = history_1.history['loss']\r\n",
        "val_loss = history_1.history['val_loss']\r\n",
        "epochs = range(1, len(train_loss) + 1)\r\n",
        "\r\n",
        "plt.plot(epochs, train_loss, 'g.', label='Training loss')\r\n",
        "plt.plot(epochs, val_loss, 'b', label='Validation loss')\r\n",
        "plt.title('Training and validation loss')\r\n",
        "plt.xlabel('Epochs')\r\n",
        "plt.ylabel('Loss')\r\n",
        "plt.legend()\r\n",
        "plt.show()\r\n",
        "\r\n",
        "# Exclude the first few epochs so the graph is easier to read\r\n",
        "SKIP = 5\r\n",
        "\r\n",
        "plt.plot(epochs[SKIP:], train_loss[SKIP:], 'g.', label='Training loss')\r\n",
        "plt.plot(epochs[SKIP:], val_loss[SKIP:], 'b.', label='Validation loss')\r\n",
        "plt.title('Training and validation loss')\r\n",
        "plt.xlabel('Epochs')\r\n",
        "plt.ylabel('Loss')\r\n",
        "plt.legend()\r\n",
        "plt.show()"
      ],
      "execution_count": 12,
      "outputs": [
        {
          "output_type": "display_data",
          "data": {
            "image/png": "[encoded data removed]",
            "text/plain": [
              "<Figure size 432x288 with 1 Axes>"
            ]
          },
          "metadata": {
            "tags": [],
            "needs_background": "light"
          }
        },
        {
          "output_type": "display_data",
          "data": {
            "image/png": "[encoded data removed]",
            "text/plain": [
              "<Figure size 432x288 with 1 Axes>"
            ]
          },
          "metadata": {
            "tags": [],
            "needs_background": "light"
          }
        }
      ]
    },
    {
      "cell_type": "markdown",
      "metadata": {
        "id": "kwnkQiGRjX_w"
      },
      "source": [
        "### Final test\r\n",
        "We can now use the 20% of the data we kept aside for a final test. First, we use the model to evaluate the test data and print out the mean squared error and the mean average error for predictions. The overall loss on the test data correlates well with the results seen in the validation set.\r\n",
        "\r\n",
        "It's a great idea to visualize some of the data by plotting actuals against predicted results."
      ]
    },
    {
      "cell_type": "code",
      "metadata": {
        "colab": {
          "base_uri": "https://localhost:8080/"
        },
        "id": "iuPRHTZEzSWT",
        "outputId": "935f0653-30b6-492c-8f1b-904205b7891e"
      },
      "source": [
        "# Calculate and print the loss on our test dataset\r\n",
        "test_loss, test_mae = model_1.evaluate(test_examples, test_targets)\r\n",
        "print(\"mean squared error:\", test_loss, \" mean average error:\", test_mae)\r\n",
        "\r\n",
        "#y_test_pred = model_1.predict(test_examples)\r\n",
        "\r\n",
        "# Graph the predictions against the actual values\r\n",
        "#plt.clf()\r\n",
        "#plt.title('Comparison of predictions and actual values')\r\n",
        "#plt.plot( test_targets,  y_test_pred, 'b.', label='Actual values')\r\n",
        "#plt.show()\r\n"
      ],
      "execution_count": null,
      "outputs": [
        {
          "output_type": "stream",
          "text": [
            "61/61 [==============================] - 0s 939us/step - loss: 0.0012 - mae: 0.0213\n",
            "mean squared error: 0.0012115772115066648  mean average error: 0.02132599614560604\n"
          ],
          "name": "stdout"
        }
      ]
    },
    {
      "cell_type": "markdown",
      "metadata": {
        "id": "JmYr9Jb-D12T"
      },
      "source": [
        "## Plot a comparison of actual and predicted for a single zip\r\n",
        "The comparison shows promising results for this particular training run."
      ]
    },
    {
      "cell_type": "code",
      "metadata": {
        "id": "V_ige54atxwj"
      },
      "source": [
        "y_test_pred = model_1.predict(test_examples)"
      ],
      "execution_count": null,
      "outputs": []
    },
    {
      "cell_type": "code",
      "metadata": {
        "id": "-utTA_nW2_mq",
        "colab": {
          "base_uri": "https://localhost:8080/",
          "height": 281
        },
        "outputId": "dc070b17-cec4-452e-9c77-b09e35eb0761"
      },
      "source": [
        "sampleInfo = pd.DataFrame();\r\n",
        "samplePx = pd.DataFrame();\r\n",
        "\r\n",
        "i=0\r\n",
        "while i < test_examples.values.shape[0]:\r\n",
        "  myRow =  test_examples.iloc[[i]]\r\n",
        "  myPxRow = test_targets.iloc[[i]]\r\n",
        "\r\n",
        "  if round(myRow['Zip'].values[0],2) == 0:\r\n",
        "    sampleInfo = sampleInfo.append(myRow)\r\n",
        "    samplePx = samplePx.append(myPxRow)\r\n",
        "    \r\n",
        "  i = i + 1\r\n",
        "\r\n",
        "y_test_pred = model_1.predict(sampleInfo)\r\n",
        "\r\n",
        "plt.clf()\r\n",
        "plt.title('Comparison of predictions and actual values - single zip')\r\n",
        "plt.plot( sampleInfo['Area'], y_test_pred, 'b.', label='predicted values')\r\n",
        "plt.plot( sampleInfo['Area'], samplePx, 'g.', label='Actual values')\r\n",
        "#plt.plot( samplePx,  y_test_pred, 'b.', label='Actual values')\r\n",
        "plt.show()"
      ],
      "execution_count": null,
      "outputs": [
        {
          "output_type": "display_data",
          "data": {
            "image/png": "[encoded data removed]",
            "text/plain": [
              "<Figure size 432x288 with 1 Axes>"
            ]
          },
          "metadata": {
            "tags": [],
            "needs_background": "light"
          }
        }
      ]
    },
    {
      "cell_type": "markdown",
      "metadata": {
        "id": "0c3TSty50zZG"
      },
      "source": [
        "## Run your examples\r\n",
        "Let's try with a couple of test inferences  - the single-family home (SFH) should be lower in zip 60002 than 60076"
      ]
    },
    {
      "cell_type": "code",
      "metadata": {
        "id": "teqn6DEQ1dpl",
        "colab": {
          "base_uri": "https://localhost:8080/"
        },
        "outputId": "5cdef008-224b-469e-b620-093a2a632907"
      },
      "source": [
        "\r\n",
        "housePrices\r\n",
        "\r\n",
        "\r\n",
        "\r\n",
        "\r\n",
        "\r\n",
        "houseData = {'YearClosed': [2020.00, 2019.00, 2019.00, 2019.00, 2019],\r\n",
        "\t'Type': ['SFH', 'SFH', 'SFH', 'Condo', 'Townhouse'],\r\n",
        "\t'Area': [2940, 1500, 1500, 1500, 1500],\r\n",
        "  'Zip': [60002, 60002, 60076, 60076, 60076],\r\n",
        "\t'Rooms': [9, 7, 7, 7, 7],\r\n",
        "  'FullBaths': [2.5, 2.5, 2.5, 2.5, 2.5],\r\n",
        "  'Beds': [4, 3, 3, 3, 3],\r\n",
        "  'GarageSpaces': [2, 2, 2, 0, 0]  }\r\n",
        "\r\n",
        "houseInfo = pd.DataFrame(houseData)\r\n",
        "ordinalData = houseInfo[ordinalColumns]\r\n",
        "houseInfo[ordinalColumns] = enc.transform(ordinalData)\r\n",
        "\r\n",
        "\r\n",
        "houseInfo =  pd.DataFrame(featureScaler.transform(houseInfo), columns=houseInfo.columns)\r\n",
        "newPrices = priceScaler.inverse_transform(model_1.predict(houseInfo))\r\n",
        "print(newPrices)\r\n",
        "\r\n",
        "\r\n",
        "\r\n"
      ],
      "execution_count": null,
      "outputs": [
        {
          "output_type": "stream",
          "text": [
            "[[314568.53]\n",
            " [219923.77]\n",
            " [347135.53]\n",
            " [199014.89]\n",
            " [257478.86]]\n"
          ],
          "name": "stdout"
        }
      ]
    },
    {
      "cell_type": "markdown",
      "metadata": {
        "id": "fkn_lsriDlL0"
      },
      "source": [
        "## Saving a model for later use\r\n",
        "Now that we have a working model, we will save it.\r\n",
        "We will then use the model without further training.\r\n"
      ]
    },
    {
      "cell_type": "code",
      "metadata": {
        "colab": {
          "base_uri": "https://localhost:8080/"
        },
        "id": "bgR_eEr6D1Iu",
        "outputId": "f2d1078b-9dd1-416f-8be2-7abec0db05c9"
      },
      "source": [
        "keras.models.save_model(model_1, 'housePriceModel2.hp5', True)\r\n",
        "! zip -r hpmodel.zip housePriceModel *.pkl\r\n",
        "\r\n",
        "! pip install tensorflowjs\r\n",
        "import tensorflowjs as tfjs\r\n",
        "\r\n",
        "tfjs.converters.save_keras_model(model_1, 'tensorFlowJs')"
      ],
      "execution_count": null,
      "outputs": [
        {
          "output_type": "stream",
          "text": [
            "INFO:tensorflow:Assets written to: housePriceModel2.hp5/assets\n",
            "\tzip warning: name not matched: *.pkl\n",
            "updating: housePriceModel/ (stored 0%)\n",
            "updating: housePriceModel/assets/ (stored 0%)\n",
            "updating: housePriceModel/saved_model.pb (deflated 87%)\n",
            "updating: housePriceModel/variables/ (stored 0%)\n",
            "updating: housePriceModel/variables/variables.data-00000-of-00001 (deflated 47%)\n",
            "updating: housePriceModel/variables/variables.index (deflated 63%)\n",
            "Collecting tensorflowjs\n",
            "\u001b[?25l  Downloading https://files.pythonhosted.org/packages/9c/a5/d778313aa845dcf8e6f0dcdf6b878fa4e24ca8e27e8e09eb80f6f52d347f/tensorflowjs-3.2.0-py3-none-any.whl (63kB)\n",
            "\u001b[K     |████████████████████████████████| 71kB 5.2MB/s \n",
            "\u001b[?25hRequirement already satisfied: h5py<3,>=2.8.0 in /usr/local/lib/python3.7/dist-packages (from tensorflowjs) (2.10.0)\n",
            "Requirement already satisfied: six<2,>=1.12.0 in /usr/local/lib/python3.7/dist-packages (from tensorflowjs) (1.15.0)\n",
            "Requirement already satisfied: tensorflow<3,>=2.1.0 in /usr/local/lib/python3.7/dist-packages (from tensorflowjs) (2.4.0)\n",
            "Collecting tensorflow-hub<0.10,>=0.7.0\n",
            "\u001b[?25l  Downloading https://files.pythonhosted.org/packages/ac/83/a7df82744a794107641dad1decaad017d82e25f0e1f761ac9204829eef96/tensorflow_hub-0.9.0-py2.py3-none-any.whl (103kB)\n",
            "\u001b[K     |████████████████████████████████| 112kB 11.6MB/s \n",
            "\u001b[?25hRequirement already satisfied: numpy>=1.7 in /usr/local/lib/python3.7/dist-packages (from h5py<3,>=2.8.0->tensorflowjs) (1.19.5)\n",
            "Requirement already satisfied: opt-einsum~=3.3.0 in /usr/local/lib/python3.7/dist-packages (from tensorflow<3,>=2.1.0->tensorflowjs) (3.3.0)\n",
            "Requirement already satisfied: termcolor~=1.1.0 in /usr/local/lib/python3.7/dist-packages (from tensorflow<3,>=2.1.0->tensorflowjs) (1.1.0)\n",
            "Requirement already satisfied: wrapt~=1.12.1 in /usr/local/lib/python3.7/dist-packages (from tensorflow<3,>=2.1.0->tensorflowjs) (1.12.1)\n",
            "Requirement already satisfied: astunparse~=1.6.3 in /usr/local/lib/python3.7/dist-packages (from tensorflow<3,>=2.1.0->tensorflowjs) (1.6.3)\n",
            "Requirement already satisfied: keras-preprocessing~=1.1.2 in /usr/local/lib/python3.7/dist-packages (from tensorflow<3,>=2.1.0->tensorflowjs) (1.1.2)\n",
            "Requirement already satisfied: gast==0.3.3 in /usr/local/lib/python3.7/dist-packages (from tensorflow<3,>=2.1.0->tensorflowjs) (0.3.3)\n",
            "Requirement already satisfied: grpcio~=1.32.0 in /usr/local/lib/python3.7/dist-packages (from tensorflow<3,>=2.1.0->tensorflowjs) (1.32.0)\n",
            "Requirement already satisfied: absl-py~=0.10 in /usr/local/lib/python3.7/dist-packages (from tensorflow<3,>=2.1.0->tensorflowjs) (0.10.0)\n",
            "Requirement already satisfied: tensorflow-estimator<2.5.0,>=2.4.0rc0 in /usr/local/lib/python3.7/dist-packages (from tensorflow<3,>=2.1.0->tensorflowjs) (2.4.0)\n",
            "Requirement already satisfied: flatbuffers~=1.12.0 in /usr/local/lib/python3.7/dist-packages (from tensorflow<3,>=2.1.0->tensorflowjs) (1.12)\n",
            "Requirement already satisfied: tensorboard~=2.4 in /usr/local/lib/python3.7/dist-packages (from tensorflow<3,>=2.1.0->tensorflowjs) (2.4.1)\n",
            "Requirement already satisfied: protobuf>=3.9.2 in /usr/local/lib/python3.7/dist-packages (from tensorflow<3,>=2.1.0->tensorflowjs) (3.12.4)\n",
            "Requirement already satisfied: typing-extensions~=3.7.4 in /usr/local/lib/python3.7/dist-packages (from tensorflow<3,>=2.1.0->tensorflowjs) (3.7.4.3)\n",
            "Requirement already satisfied: wheel~=0.35 in /usr/local/lib/python3.7/dist-packages (from tensorflow<3,>=2.1.0->tensorflowjs) (0.36.2)\n",
            "Requirement already satisfied: google-pasta~=0.2 in /usr/local/lib/python3.7/dist-packages (from tensorflow<3,>=2.1.0->tensorflowjs) (0.2.0)\n",
            "Requirement already satisfied: markdown>=2.6.8 in /usr/local/lib/python3.7/dist-packages (from tensorboard~=2.4->tensorflow<3,>=2.1.0->tensorflowjs) (3.3.4)\n",
            "Requirement already satisfied: setuptools>=41.0.0 in /usr/local/lib/python3.7/dist-packages (from tensorboard~=2.4->tensorflow<3,>=2.1.0->tensorflowjs) (53.0.0)\n",
            "Requirement already satisfied: google-auth<2,>=1.6.3 in /usr/local/lib/python3.7/dist-packages (from tensorboard~=2.4->tensorflow<3,>=2.1.0->tensorflowjs) (1.27.0)\n",
            "Requirement already satisfied: werkzeug>=0.11.15 in /usr/local/lib/python3.7/dist-packages (from tensorboard~=2.4->tensorflow<3,>=2.1.0->tensorflowjs) (1.0.1)\n",
            "Requirement already satisfied: google-auth-oauthlib<0.5,>=0.4.1 in /usr/local/lib/python3.7/dist-packages (from tensorboard~=2.4->tensorflow<3,>=2.1.0->tensorflowjs) (0.4.2)\n",
            "Requirement already satisfied: requests<3,>=2.21.0 in /usr/local/lib/python3.7/dist-packages (from tensorboard~=2.4->tensorflow<3,>=2.1.0->tensorflowjs) (2.23.0)\n",
            "Requirement already satisfied: tensorboard-plugin-wit>=1.6.0 in /usr/local/lib/python3.7/dist-packages (from tensorboard~=2.4->tensorflow<3,>=2.1.0->tensorflowjs) (1.8.0)\n",
            "Requirement already satisfied: importlib-metadata; python_version < \"3.8\" in /usr/local/lib/python3.7/dist-packages (from markdown>=2.6.8->tensorboard~=2.4->tensorflow<3,>=2.1.0->tensorflowjs) (3.7.0)\n",
            "Requirement already satisfied: rsa<5,>=3.1.4; python_version >= \"3.6\" in /usr/local/lib/python3.7/dist-packages (from google-auth<2,>=1.6.3->tensorboard~=2.4->tensorflow<3,>=2.1.0->tensorflowjs) (4.7.2)\n",
            "Requirement already satisfied: cachetools<5.0,>=2.0.0 in /usr/local/lib/python3.7/dist-packages (from google-auth<2,>=1.6.3->tensorboard~=2.4->tensorflow<3,>=2.1.0->tensorflowjs) (4.2.1)\n",
            "Requirement already satisfied: pyasn1-modules>=0.2.1 in /usr/local/lib/python3.7/dist-packages (from google-auth<2,>=1.6.3->tensorboard~=2.4->tensorflow<3,>=2.1.0->tensorflowjs) (0.2.8)\n",
            "Requirement already satisfied: requests-oauthlib>=0.7.0 in /usr/local/lib/python3.7/dist-packages (from google-auth-oauthlib<0.5,>=0.4.1->tensorboard~=2.4->tensorflow<3,>=2.1.0->tensorflowjs) (1.3.0)\n",
            "Requirement already satisfied: idna<3,>=2.5 in /usr/local/lib/python3.7/dist-packages (from requests<3,>=2.21.0->tensorboard~=2.4->tensorflow<3,>=2.1.0->tensorflowjs) (2.10)\n",
            "Requirement already satisfied: urllib3!=1.25.0,!=1.25.1,<1.26,>=1.21.1 in /usr/local/lib/python3.7/dist-packages (from requests<3,>=2.21.0->tensorboard~=2.4->tensorflow<3,>=2.1.0->tensorflowjs) (1.24.3)\n",
            "Requirement already satisfied: certifi>=2017.4.17 in /usr/local/lib/python3.7/dist-packages (from requests<3,>=2.21.0->tensorboard~=2.4->tensorflow<3,>=2.1.0->tensorflowjs) (2020.12.5)\n",
            "Requirement already satisfied: chardet<4,>=3.0.2 in /usr/local/lib/python3.7/dist-packages (from requests<3,>=2.21.0->tensorboard~=2.4->tensorflow<3,>=2.1.0->tensorflowjs) (3.0.4)\n",
            "Requirement already satisfied: zipp>=0.5 in /usr/local/lib/python3.7/dist-packages (from importlib-metadata; python_version < \"3.8\"->markdown>=2.6.8->tensorboard~=2.4->tensorflow<3,>=2.1.0->tensorflowjs) (3.4.0)\n",
            "Requirement already satisfied: pyasn1>=0.1.3 in /usr/local/lib/python3.7/dist-packages (from rsa<5,>=3.1.4; python_version >= \"3.6\"->google-auth<2,>=1.6.3->tensorboard~=2.4->tensorflow<3,>=2.1.0->tensorflowjs) (0.4.8)\n",
            "Requirement already satisfied: oauthlib>=3.0.0 in /usr/local/lib/python3.7/dist-packages (from requests-oauthlib>=0.7.0->google-auth-oauthlib<0.5,>=0.4.1->tensorboard~=2.4->tensorflow<3,>=2.1.0->tensorflowjs) (3.1.0)\n",
            "Installing collected packages: tensorflow-hub, tensorflowjs\n",
            "  Found existing installation: tensorflow-hub 0.11.0\n",
            "    Uninstalling tensorflow-hub-0.11.0:\n",
            "      Successfully uninstalled tensorflow-hub-0.11.0\n",
            "Successfully installed tensorflow-hub-0.9.0 tensorflowjs-3.2.0\n"
          ],
          "name": "stdout"
        },
        {
          "output_type": "stream",
          "text": [
            "/usr/local/lib/python3.7/dist-packages/tensorflowjs/converters/keras_h5_conversion.py:123: H5pyDeprecationWarning: The default file mode will change to 'r' (read-only) in h5py 3.0. To suppress this warning, pass the mode you need to h5py.File(), or set the global default h5.get_config().default_file_mode, or set the environment variable H5PY_DEFAULT_READONLY=1. Available modes are: 'r', 'r+', 'w', 'w-'/'x', 'a'. See the docs for details.\n",
            "  return h5py.File(h5file)\n"
          ],
          "name": "stderr"
        }
      ]
    },
    {
      "cell_type": "markdown",
      "metadata": {
        "id": "UKP7YtRQF0-w"
      },
      "source": [
        "# Loading a model\r\n",
        "Let's load the scalers, encoders and model and predict prices using the model we loaded; the indicated prices should be the same as above."
      ]
    },
    {
      "cell_type": "code",
      "metadata": {
        "id": "NNqbm9mhF57n"
      },
      "source": [
        "#! unzip  /content/hpmodel.zip\r\n",
        "\r\n",
        "featureScaler2 = joblib.load('/content/my_cool_scaler.pkl')\r\n",
        "priceScaler2 = joblib.load('/content/my_cool_pxscaler.pkl')\r\n",
        "enc2 = joblib.load('/content/my_cool_encoder.pkl')  \r\n",
        "ordinalColumns = ['YearClosed', 'Type', 'Zip']\r\n",
        "model_2 = keras.models.load_model(\"housePriceModel\")\r\n"
      ],
      "execution_count": null,
      "outputs": []
    },
    {
      "cell_type": "code",
      "metadata": {
        "colab": {
          "base_uri": "https://localhost:8080/"
        },
        "id": "GrSX2Q8lBewB",
        "outputId": "30cb75b4-ee70-4a5e-fcfb-6561161b6c59"
      },
      "source": [
        "prices.head"
      ],
      "execution_count": null,
      "outputs": [
        {
          "output_type": "execute_result",
          "data": {
            "text/plain": [
              "<bound method NDFrame.head of 1166    0.645750\n",
              "1446    0.994250\n",
              "530     0.392575\n",
              "629     0.460738\n",
              "1561    1.383750\n",
              "          ...   \n",
              "921     0.430500\n",
              "2618    1.549672\n",
              "1576    1.440125\n",
              "1559    1.383750\n",
              "2366    0.716475\n",
              "Name: SoldPr, Length: 2682, dtype: float64>"
            ]
          },
          "metadata": {
            "tags": []
          },
          "execution_count": 58
        }
      ]
    },
    {
      "cell_type": "code",
      "metadata": {
        "colab": {
          "base_uri": "https://localhost:8080/"
        },
        "id": "ssPnKKVeAA2t",
        "outputId": "4f29041b-64f6-472a-c4a0-95106d1e7718"
      },
      "source": [
        "zzz  = training_examples.values[0]\r\n",
        "print(zzz)\r\n",
        "zzz = zzz.reshape(1,38)\r\n",
        "model_1.predict(zzz)"
      ],
      "execution_count": 14,
      "outputs": [
        {
          "output_type": "stream",
          "text": [
            "[ 1.     0.     0.     0.     0.     0.     1.     0.     0.     0.\n",
            "  0.     0.     4.136 11.     3.     0.     0.     4.     0.     2.\n",
            "  1.     0.     0.     0.     0.     0.     0.     0.     0.     0.\n",
            "  0.     0.     0.     0.     0.     0.     0.     0.   ]\n"
          ],
          "name": "stdout"
        },
        {
          "output_type": "execute_result",
          "data": {
            "text/plain": [
              "array([[0.43641]], dtype=float32)"
            ]
          },
          "metadata": {
            "tags": []
          },
          "execution_count": 14
        }
      ]
    },
    {
      "cell_type": "code",
      "metadata": {
        "colab": {
          "base_uri": "https://localhost:8080/"
        },
        "id": "hvUF80hOGmOt",
        "outputId": "3ffeaf3e-1ec4-4c67-9e7c-346bd726f3ea"
      },
      "source": [
        "\r\n",
        "\r\n",
        "houseData2 = {'YearClosed': [2020.00, 2019.00, 2019.00, 2019.00, 2019],\r\n",
        "\t'Type': ['SFH', 'SFH', 'SFH', 'Condo', 'Townhouse'],\r\n",
        "\t'Area': [2940, 1500, 1500, 1500, 1500],\r\n",
        "  'Zip': [60002, 60002, 60076, 60076, 60076],\r\n",
        "\t'Rooms': [9, 7, 7, 7, 7],\r\n",
        "  'FullBaths': [2.5, 2.5, 2.5, 2.5, 2.5],\r\n",
        "  'Beds': [4, 3, 3, 3, 3],\r\n",
        "  'GarageSpaces': [2, 2, 2, 0, 0]  }\r\n",
        "\r\n",
        "houseInfo2 = pd.DataFrame(houseData2)\r\n",
        "ordinalData2 = houseInfo2[ordinalColumns]\r\n",
        "houseInfo2[ordinalColumns] = enc2.transform(ordinalData)\r\n",
        "\r\n",
        "houseInfo2 =  pd.DataFrame(featureScaler2.transform(houseInfo2), columns=houseInfo2.columns)\r\n",
        "newPrices2 = priceScaler2.inverse_transform(model_2.predict(houseInfo2))\r\n",
        "print(newPrices)\r\n",
        "houseInfo2.to_json(r'houseInfo.json')"
      ],
      "execution_count": null,
      "outputs": [
        {
          "output_type": "stream",
          "text": [
            "[[314568.53]\n",
            " [219923.77]\n",
            " [347135.53]\n",
            " [199014.89]\n",
            " [257478.86]]\n"
          ],
          "name": "stdout"
        }
      ]
    },
    {
      "cell_type": "markdown",
      "metadata": {
        "id": "Fdvzav5_KmZi"
      },
      "source": [
        "# Using your model in different environments\r\n",
        "A good thing about using Tensorflow and Keras is that it is relatively easy to convert your trained model to work in a different environment.The script below shows how to generate a model for JavaScript."
      ]
    },
    {
      "cell_type": "code",
      "metadata": {
        "id": "a7lx_lOiJKi_"
      },
      "source": [
        "! pip install tensorflowjs\r\n",
        "import tensorflowjs as tfjs\r\n",
        "\r\n",
        "tfjs.converters.save_keras_model(model_1, 'tensorFlowJs')\r\n",
        "! zip -r hpmodelJs.zip tensorFlowJs\r\n"
      ],
      "execution_count": null,
      "outputs": []
    },
    {
      "cell_type": "markdown",
      "metadata": {
        "id": "IyHKBRo0qVgO"
      },
      "source": [
        "# Optional fun\r\n",
        "\r\n",
        "If we are happy with the model we can now convert and save it - I choose to save the model using Tensorflow lite to be able to run it on a small device.\r\n"
      ]
    },
    {
      "cell_type": "code",
      "metadata": {
        "id": "m-73KwwRqcmh"
      },
      "source": [
        "# Convert the model to the TensorFlow Lite format without quantization\r\n",
        "converter = tf.lite.TFLiteConverter.from_keras_model(model_1)\r\n",
        "model_no_quant_tflite = converter.convert()\r\n",
        "\r\n",
        "# Save the model to disk\r\n",
        "open(\"housePriceModelNoQuantization\", \"wb\").write(model_no_quant_tflite)\r\n"
      ],
      "execution_count": null,
      "outputs": []
    },
    {
      "cell_type": "markdown",
      "metadata": {
        "id": "ARF_86UywZNI"
      },
      "source": [
        "If you want to run the model using C on some smaller device (e.g. a Raspberry Pi) you can dump the model weightd as a C++ file.\r\n"
      ]
    },
    {
      "cell_type": "code",
      "metadata": {
        "id": "CixAdabNuCex"
      },
      "source": [
        "# Install xxd if it is not available\r\n",
        "!apt-get update && apt-get -qq install xxd\r\n",
        "# Convert to a C source file, i.e, a TensorFlow Lite for Microcontrollers model\r\n",
        "!xxd -i housePriceModelNoQuantization > model_1.cc\r\n",
        "!cat model_1.cc\r\n",
        "# Update variable names\r\n",
        "#REPLACE_TEXT = MODEL_TFLITE.replace('/', '_').replace('.', '_')\r\n",
        "#!sed -i 's/'{REPLACE_TEXT}'/g_model/g' {MODEL_TFLITE_MICRO}"
      ],
      "execution_count": null,
      "outputs": []
    }
  ]
}